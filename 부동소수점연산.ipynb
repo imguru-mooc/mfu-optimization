{
  "nbformat": 4,
  "nbformat_minor": 0,
  "metadata": {
    "colab": {
      "provenance": []
    },
    "kernelspec": {
      "name": "python3",
      "display_name": "Python 3"
    },
    "language_info": {
      "name": "python"
    }
  },
  "cells": [
    {
      "cell_type": "code",
      "execution_count": 1,
      "metadata": {
        "colab": {
          "base_uri": "https://localhost:8080/"
        },
        "id": "IkQYoJIpnX45",
        "outputId": "39dd596e-caf6-43f8-a88a-9200405aee82"
      },
      "outputs": [
        {
          "output_type": "stream",
          "name": "stdout",
          "text": [
            "A = 0.75\n",
            "비트 표현: 00111111010000000000000000000000\n",
            "B = 0.25\n",
            "비트 표현: 00111110100000000000000000000000\n",
            "\n",
            "[A 해석]\n",
            "부호: 0, 지수(실제): -1, 가수: 1.5\n",
            "[B 해석]\n",
            "부호: 0, 지수(실제): -2, 가수: 1.0\n",
            "\n",
            "[연산 과정 요약]\n",
            "정렬 후 가수 합: 1.500000 + 0.500000 = 1.000000\n",
            "최종 지수: 127  (bias=127)\n",
            "\n",
            "결과 비트: 00111111100000000000000000000000\n",
            "IEEE754 해석 값 = 1.0\n"
          ]
        }
      ],
      "source": [
        "import struct\n",
        "\n",
        "def float_to_bits(f):\n",
        "    \"\"\"32비트 float → 이진 문자열\"\"\"\n",
        "    [d] = struct.unpack(\">I\", struct.pack(\">f\", f))\n",
        "    return f\"{d:032b}\"\n",
        "\n",
        "def bits_to_float(bstr):\n",
        "    \"\"\"이진 문자열 → 32비트 float\"\"\"\n",
        "    i = int(bstr, 2)\n",
        "    [f] = struct.unpack(\">f\", struct.pack(\">I\", i))\n",
        "    return f\n",
        "\n",
        "def decode_float(bstr):\n",
        "    \"\"\"부동소수점 구성요소 추출\"\"\"\n",
        "    sign = int(bstr[0], 2)\n",
        "    exponent = int(bstr[1:9], 2)\n",
        "    mantissa = bstr[9:]\n",
        "    bias = 127\n",
        "    actual_exp = exponent - bias\n",
        "    mantissa_val = 1 + sum([int(bit)*2**(-i-1) for i, bit in enumerate(mantissa)])\n",
        "    return sign, exponent, mantissa_val, actual_exp\n",
        "\n",
        "# 1️⃣ 두 수의 32비트 표현\n",
        "a, b = 0.75, 0.25\n",
        "bits_a = float_to_bits(a)\n",
        "bits_b = float_to_bits(b)\n",
        "\n",
        "print(\"A = 0.75\")\n",
        "print(\"비트 표현:\", bits_a)\n",
        "print(\"B = 0.25\")\n",
        "print(\"비트 표현:\", bits_b)\n",
        "\n",
        "# 2️⃣ 각 요소 분리\n",
        "sign_a, exp_a, mant_a, act_exp_a = decode_float(bits_a)\n",
        "sign_b, exp_b, mant_b, act_exp_b = decode_float(bits_b)\n",
        "\n",
        "print(\"\\n[A 해석]\")\n",
        "print(f\"부호: {sign_a}, 지수(실제): {act_exp_a}, 가수: {mant_a}\")\n",
        "print(\"[B 해석]\")\n",
        "print(f\"부호: {sign_b}, 지수(실제): {act_exp_b}, 가수: {mant_b}\")\n",
        "\n",
        "# 3️⃣ 지수 맞추기 (exponent alignment)\n",
        "if exp_a > exp_b:\n",
        "    shift = exp_a - exp_b\n",
        "    mant_b /= 2**shift\n",
        "    exp_res = exp_a\n",
        "elif exp_b > exp_a:\n",
        "    shift = exp_b - exp_a\n",
        "    mant_a /= 2**shift\n",
        "    exp_res = exp_b\n",
        "else:\n",
        "    exp_res = exp_a\n",
        "\n",
        "# 4️⃣ 가수 덧셈\n",
        "mant_res = mant_a + mant_b\n",
        "\n",
        "# 5️⃣ 정규화\n",
        "if mant_res >= 2:\n",
        "    mant_res /= 2\n",
        "    exp_res += 1\n",
        "\n",
        "# 6️⃣ 결과 계산\n",
        "bias = 127\n",
        "exp_bits = f\"{exp_res:08b}\"\n",
        "mant_bits = \"\"\n",
        "m_temp = mant_res - 1\n",
        "for i in range(23):\n",
        "    m_temp *= 2\n",
        "    bit = int(m_temp)\n",
        "    mant_bits += str(bit)\n",
        "    m_temp -= bit\n",
        "\n",
        "result_bits = f\"0{exp_bits}{mant_bits}\"\n",
        "result_value = bits_to_float(result_bits)\n",
        "\n",
        "print(\"\\n[연산 과정 요약]\")\n",
        "print(f\"정렬 후 가수 합: {mant_a:.6f} + {mant_b:.6f} = {mant_res:.6f}\")\n",
        "print(f\"최종 지수: {exp_res}  (bias={bias})\")\n",
        "print(\"\\n결과 비트:\", result_bits)\n",
        "print(\"IEEE754 해석 값 =\", result_value)\n"
      ]
    },
    {
      "cell_type": "code",
      "source": [
        "import struct\n",
        "\n",
        "def float_to_bits(f):\n",
        "    \"\"\"32비트 float → 이진 문자열\"\"\"\n",
        "    [d] = struct.unpack(\">I\", struct.pack(\">f\", f))\n",
        "    return f\"{d:032b}\"\n",
        "\n",
        "def bits_to_float(bstr):\n",
        "    \"\"\"이진 문자열 → 32비트 float\"\"\"\n",
        "    i = int(bstr, 2)\n",
        "    [f] = struct.unpack(\">f\", struct.pack(\">I\", i))\n",
        "    return f\n",
        "\n",
        "def decode_float(bstr):\n",
        "    \"\"\"부동소수점 구성요소 추출\"\"\"\n",
        "    sign = int(bstr[0], 2)\n",
        "    exponent = int(bstr[1:9], 2)\n",
        "    mantissa_bits = bstr[9:]\n",
        "    bias = 127\n",
        "    actual_exp = exponent - bias\n",
        "    mantissa_val = 1 + sum(int(bit)*2**(-i-1) for i, bit in enumerate(mantissa_bits))\n",
        "    return sign, exponent, mantissa_val, actual_exp\n",
        "\n",
        "def encode_float(sign, exponent, mantissa):\n",
        "    \"\"\"sign, exponent, mantissa → IEEE754 32비트 문자열\"\"\"\n",
        "    bias = 127\n",
        "    e_bits = f\"{exponent:08b}\"\n",
        "    m_val = mantissa - 1\n",
        "    m_bits = \"\"\n",
        "    for i in range(23):\n",
        "        m_val *= 2\n",
        "        bit = int(m_val)\n",
        "        m_bits += str(bit)\n",
        "        m_val -= bit\n",
        "    return f\"{sign}{e_bits}{m_bits}\"\n",
        "\n",
        "def normalize(mant, exp):\n",
        "    \"\"\"가수를 1.xxx 형태로 정규화\"\"\"\n",
        "    while mant >= 2:\n",
        "        mant /= 2\n",
        "        exp += 1\n",
        "    while mant < 1 and exp > 0:\n",
        "        mant *= 2\n",
        "        exp -= 1\n",
        "    return mant, exp\n",
        "\n",
        "def simulate_add(a, b):\n",
        "    \"\"\"덧셈\"\"\"\n",
        "    sa, ea, ma, exa = decode_float(float_to_bits(a))\n",
        "    sb, eb, mb, exb = decode_float(float_to_bits(b))\n",
        "\n",
        "    # 지수 정렬\n",
        "    if ea > eb:\n",
        "        mb /= 2**(ea-eb)\n",
        "        e_res = ea\n",
        "    else:\n",
        "        ma /= 2**(eb-ea)\n",
        "        e_res = eb\n",
        "\n",
        "    # 부호 같다고 가정 (+,+)\n",
        "    m_res = ma + mb\n",
        "    m_res, e_res = normalize(m_res, e_res)\n",
        "\n",
        "    result_bits = encode_float(0, e_res, m_res)\n",
        "    return bits_to_float(result_bits), result_bits, m_res, e_res\n",
        "\n",
        "def simulate_mul(a, b):\n",
        "    \"\"\"곱셈\"\"\"\n",
        "    sa, ea, ma, exa = decode_float(float_to_bits(a))\n",
        "    sb, eb, mb, exb = decode_float(float_to_bits(b))\n",
        "    s_res = sa ^ sb\n",
        "    e_res = ea + eb - 127\n",
        "    m_res = ma * mb\n",
        "    m_res, e_res = normalize(m_res, e_res)\n",
        "    result_bits = encode_float(s_res, e_res, m_res)\n",
        "    return bits_to_float(result_bits), result_bits, m_res, e_res\n",
        "\n",
        "def simulate_div(a, b):\n",
        "    \"\"\"나눗셈\"\"\"\n",
        "    sa, ea, ma, exa = decode_float(float_to_bits(a))\n",
        "    sb, eb, mb, exb = decode_float(float_to_bits(b))\n",
        "    s_res = sa ^ sb\n",
        "    e_res = ea - eb + 127\n",
        "    m_res = ma / mb\n",
        "    m_res, e_res = normalize(m_res, e_res)\n",
        "    result_bits = encode_float(s_res, e_res, m_res)\n",
        "    return bits_to_float(result_bits), result_bits, m_res, e_res\n",
        "\n",
        "\n",
        "# 실험값\n",
        "a, b = 0.75, 0.25\n",
        "print(\"===== IEEE 754 부동소수점 연산 시뮬레이터 =====\")\n",
        "print(f\"A = {a}, B = {b}\")\n",
        "print(\"-----------------------------------------------\")\n",
        "\n",
        "# 덧셈\n",
        "r_add, bits_add, m_add, e_add = simulate_add(a, b)\n",
        "print(\"[+] 덧셈 (A + B)\")\n",
        "print(f\"가수합 = {m_add:.6f}, 지수 = {e_add}\")\n",
        "print(\"결과 비트:\", bits_add)\n",
        "print(\"결과 값 =\", r_add)\n",
        "print(\"-----------------------------------------------\")\n",
        "\n",
        "# 곱셈\n",
        "r_mul, bits_mul, m_mul, e_mul = simulate_mul(a, b)\n",
        "print(\"[×] 곱셈 (A × B)\")\n",
        "print(f\"가수곱 = {m_mul:.6f}, 지수 = {e_mul}\")\n",
        "print(\"결과 비트:\", bits_mul)\n",
        "print(\"결과 값 =\", r_mul)\n",
        "print(\"-----------------------------------------------\")\n",
        "\n",
        "# 나눗셈\n",
        "r_div, bits_div, m_div, e_div = simulate_div(a, b)\n",
        "print(\"[÷] 나눗셈 (A ÷ B)\")\n",
        "print(f\"가수나눗셈 = {m_div:.6f}, 지수 = {e_div}\")\n",
        "print(\"결과 비트:\", bits_div)\n",
        "print(\"결과 값 =\", r_div)\n"
      ],
      "metadata": {
        "colab": {
          "base_uri": "https://localhost:8080/"
        },
        "id": "EAeAPaitndFH",
        "outputId": "a4c05143-74a3-4069-c929-c0e62571afee"
      },
      "execution_count": 2,
      "outputs": [
        {
          "output_type": "stream",
          "name": "stdout",
          "text": [
            "===== IEEE 754 부동소수점 연산 시뮬레이터 =====\n",
            "A = 0.75, B = 0.25\n",
            "-----------------------------------------------\n",
            "[+] 덧셈 (A + B)\n",
            "가수합 = 1.000000, 지수 = 127\n",
            "결과 비트: 00111111100000000000000000000000\n",
            "결과 값 = 1.0\n",
            "-----------------------------------------------\n",
            "[×] 곱셈 (A × B)\n",
            "가수곱 = 1.500000, 지수 = 124\n",
            "결과 비트: 00111110010000000000000000000000\n",
            "결과 값 = 0.1875\n",
            "-----------------------------------------------\n",
            "[÷] 나눗셈 (A ÷ B)\n",
            "가수나눗셈 = 1.500000, 지수 = 128\n",
            "결과 비트: 01000000010000000000000000000000\n",
            "결과 값 = 3.0\n"
          ]
        }
      ]
    },
    {
      "cell_type": "code",
      "source": [
        "struct.pack(\">f\", 0.75)"
      ],
      "metadata": {
        "colab": {
          "base_uri": "https://localhost:8080/"
        },
        "id": "zRmkweO4osZD",
        "outputId": "8c098dbf-60bc-492e-bcc8-40ea64561815"
      },
      "execution_count": 3,
      "outputs": [
        {
          "output_type": "execute_result",
          "data": {
            "text/plain": [
              "b'?@\\x00\\x00'"
            ]
          },
          "metadata": {},
          "execution_count": 3
        }
      ]
    },
    {
      "cell_type": "code",
      "source": [
        "[d] = struct.unpack(\">I\", b'?@\\x00\\x00')\n",
        "d"
      ],
      "metadata": {
        "colab": {
          "base_uri": "https://localhost:8080/"
        },
        "id": "L8lnEANrsWMM",
        "outputId": "a4b51e34-cc1c-41ce-9c71-91189f3b177d"
      },
      "execution_count": 4,
      "outputs": [
        {
          "output_type": "execute_result",
          "data": {
            "text/plain": [
              "1061158912"
            ]
          },
          "metadata": {},
          "execution_count": 4
        }
      ]
    },
    {
      "cell_type": "code",
      "source": [
        "f\"{d:032b}\""
      ],
      "metadata": {
        "colab": {
          "base_uri": "https://localhost:8080/",
          "height": 35
        },
        "id": "goUzFlUosjoW",
        "outputId": "b1d40d0f-7187-46f6-e27c-da4ec387075d"
      },
      "execution_count": 5,
      "outputs": [
        {
          "output_type": "execute_result",
          "data": {
            "text/plain": [
              "'00111111010000000000000000000000'"
            ],
            "application/vnd.google.colaboratory.intrinsic+json": {
              "type": "string"
            }
          },
          "metadata": {},
          "execution_count": 5
        }
      ]
    },
    {
      "cell_type": "code",
      "source": [],
      "metadata": {
        "id": "3F7S272FbExL"
      },
      "execution_count": null,
      "outputs": []
    }
  ]
}