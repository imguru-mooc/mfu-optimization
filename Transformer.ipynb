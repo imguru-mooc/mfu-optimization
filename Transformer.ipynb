{
  "cells": [
    {
      "cell_type": "code",
      "source": [
        "!pip install tensorflow==2.16.1"
      ],
      "metadata": {
        "id": "OAEPvvPXdskB",
        "colab": {
          "base_uri": "https://localhost:8080/",
          "height": 1000
        },
        "outputId": "c8347bd6-c78a-4157-8501-38ac1511b590"
      },
      "execution_count": 2,
      "outputs": [
        {
          "output_type": "stream",
          "name": "stdout",
          "text": [
            "Collecting tensorflow==2.16.1\n",
            "  Downloading tensorflow-2.16.1-cp312-cp312-manylinux_2_17_x86_64.manylinux2014_x86_64.whl.metadata (4.3 kB)\n",
            "Requirement already satisfied: absl-py>=1.0.0 in /usr/local/lib/python3.12/dist-packages (from tensorflow==2.16.1) (1.4.0)\n",
            "Requirement already satisfied: astunparse>=1.6.0 in /usr/local/lib/python3.12/dist-packages (from tensorflow==2.16.1) (1.6.3)\n",
            "Requirement already satisfied: flatbuffers>=23.5.26 in /usr/local/lib/python3.12/dist-packages (from tensorflow==2.16.1) (25.9.23)\n",
            "Requirement already satisfied: gast!=0.5.0,!=0.5.1,!=0.5.2,>=0.2.1 in /usr/local/lib/python3.12/dist-packages (from tensorflow==2.16.1) (0.6.0)\n",
            "Requirement already satisfied: google-pasta>=0.1.1 in /usr/local/lib/python3.12/dist-packages (from tensorflow==2.16.1) (0.2.0)\n",
            "Requirement already satisfied: h5py>=3.10.0 in /usr/local/lib/python3.12/dist-packages (from tensorflow==2.16.1) (3.15.0)\n",
            "Requirement already satisfied: libclang>=13.0.0 in /usr/local/lib/python3.12/dist-packages (from tensorflow==2.16.1) (18.1.1)\n",
            "Collecting ml-dtypes~=0.3.1 (from tensorflow==2.16.1)\n",
            "  Downloading ml_dtypes-0.3.2-cp312-cp312-manylinux_2_17_x86_64.manylinux2014_x86_64.whl.metadata (20 kB)\n",
            "Requirement already satisfied: opt-einsum>=2.3.2 in /usr/local/lib/python3.12/dist-packages (from tensorflow==2.16.1) (3.4.0)\n",
            "Requirement already satisfied: packaging in /usr/local/lib/python3.12/dist-packages (from tensorflow==2.16.1) (25.0)\n",
            "Collecting protobuf!=4.21.0,!=4.21.1,!=4.21.2,!=4.21.3,!=4.21.4,!=4.21.5,<5.0.0dev,>=3.20.3 (from tensorflow==2.16.1)\n",
            "  Downloading protobuf-4.25.8-cp37-abi3-manylinux2014_x86_64.whl.metadata (541 bytes)\n",
            "Requirement already satisfied: requests<3,>=2.21.0 in /usr/local/lib/python3.12/dist-packages (from tensorflow==2.16.1) (2.32.4)\n",
            "Requirement already satisfied: setuptools in /usr/local/lib/python3.12/dist-packages (from tensorflow==2.16.1) (75.2.0)\n",
            "Requirement already satisfied: six>=1.12.0 in /usr/local/lib/python3.12/dist-packages (from tensorflow==2.16.1) (1.17.0)\n",
            "Requirement already satisfied: termcolor>=1.1.0 in /usr/local/lib/python3.12/dist-packages (from tensorflow==2.16.1) (3.1.0)\n",
            "Requirement already satisfied: typing-extensions>=3.6.6 in /usr/local/lib/python3.12/dist-packages (from tensorflow==2.16.1) (4.15.0)\n",
            "Requirement already satisfied: wrapt>=1.11.0 in /usr/local/lib/python3.12/dist-packages (from tensorflow==2.16.1) (1.17.3)\n",
            "Requirement already satisfied: grpcio<2.0,>=1.24.3 in /usr/local/lib/python3.12/dist-packages (from tensorflow==2.16.1) (1.75.1)\n",
            "Collecting tensorboard<2.17,>=2.16 (from tensorflow==2.16.1)\n",
            "  Downloading tensorboard-2.16.2-py3-none-any.whl.metadata (1.6 kB)\n",
            "Requirement already satisfied: keras>=3.0.0 in /usr/local/lib/python3.12/dist-packages (from tensorflow==2.16.1) (3.10.0)\n",
            "Collecting numpy<2.0.0,>=1.26.0 (from tensorflow==2.16.1)\n",
            "  Downloading numpy-1.26.4-cp312-cp312-manylinux_2_17_x86_64.manylinux2014_x86_64.whl.metadata (61 kB)\n",
            "\u001b[2K     \u001b[90m━━━━━━━━━━━━━━━━━━━━━━━━━━━━━━━━━━━━━━━━\u001b[0m \u001b[32m61.0/61.0 kB\u001b[0m \u001b[31m6.1 MB/s\u001b[0m eta \u001b[36m0:00:00\u001b[0m\n",
            "\u001b[?25hRequirement already satisfied: wheel<1.0,>=0.23.0 in /usr/local/lib/python3.12/dist-packages (from astunparse>=1.6.0->tensorflow==2.16.1) (0.45.1)\n",
            "Requirement already satisfied: rich in /usr/local/lib/python3.12/dist-packages (from keras>=3.0.0->tensorflow==2.16.1) (13.9.4)\n",
            "Requirement already satisfied: namex in /usr/local/lib/python3.12/dist-packages (from keras>=3.0.0->tensorflow==2.16.1) (0.1.0)\n",
            "Requirement already satisfied: optree in /usr/local/lib/python3.12/dist-packages (from keras>=3.0.0->tensorflow==2.16.1) (0.17.0)\n",
            "Requirement already satisfied: charset_normalizer<4,>=2 in /usr/local/lib/python3.12/dist-packages (from requests<3,>=2.21.0->tensorflow==2.16.1) (3.4.4)\n",
            "Requirement already satisfied: idna<4,>=2.5 in /usr/local/lib/python3.12/dist-packages (from requests<3,>=2.21.0->tensorflow==2.16.1) (3.11)\n",
            "Requirement already satisfied: urllib3<3,>=1.21.1 in /usr/local/lib/python3.12/dist-packages (from requests<3,>=2.21.0->tensorflow==2.16.1) (2.5.0)\n",
            "Requirement already satisfied: certifi>=2017.4.17 in /usr/local/lib/python3.12/dist-packages (from requests<3,>=2.21.0->tensorflow==2.16.1) (2025.10.5)\n",
            "Requirement already satisfied: markdown>=2.6.8 in /usr/local/lib/python3.12/dist-packages (from tensorboard<2.17,>=2.16->tensorflow==2.16.1) (3.9)\n",
            "Requirement already satisfied: tensorboard-data-server<0.8.0,>=0.7.0 in /usr/local/lib/python3.12/dist-packages (from tensorboard<2.17,>=2.16->tensorflow==2.16.1) (0.7.2)\n",
            "Requirement already satisfied: werkzeug>=1.0.1 in /usr/local/lib/python3.12/dist-packages (from tensorboard<2.17,>=2.16->tensorflow==2.16.1) (3.1.3)\n",
            "Requirement already satisfied: MarkupSafe>=2.1.1 in /usr/local/lib/python3.12/dist-packages (from werkzeug>=1.0.1->tensorboard<2.17,>=2.16->tensorflow==2.16.1) (3.0.3)\n",
            "Requirement already satisfied: markdown-it-py>=2.2.0 in /usr/local/lib/python3.12/dist-packages (from rich->keras>=3.0.0->tensorflow==2.16.1) (4.0.0)\n",
            "Requirement already satisfied: pygments<3.0.0,>=2.13.0 in /usr/local/lib/python3.12/dist-packages (from rich->keras>=3.0.0->tensorflow==2.16.1) (2.19.2)\n",
            "Requirement already satisfied: mdurl~=0.1 in /usr/local/lib/python3.12/dist-packages (from markdown-it-py>=2.2.0->rich->keras>=3.0.0->tensorflow==2.16.1) (0.1.2)\n",
            "Downloading tensorflow-2.16.1-cp312-cp312-manylinux_2_17_x86_64.manylinux2014_x86_64.whl (589.9 MB)\n",
            "\u001b[2K   \u001b[90m━━━━━━━━━━━━━━━━━━━━━━━━━━━━━━━━━━━━━━━━\u001b[0m \u001b[32m589.9/589.9 MB\u001b[0m \u001b[31m2.0 MB/s\u001b[0m eta \u001b[36m0:00:00\u001b[0m\n",
            "\u001b[?25hDownloading ml_dtypes-0.3.2-cp312-cp312-manylinux_2_17_x86_64.manylinux2014_x86_64.whl (2.2 MB)\n",
            "\u001b[2K   \u001b[90m━━━━━━━━━━━━━━━━━━━━━━━━━━━━━━━━━━━━━━━━\u001b[0m \u001b[32m2.2/2.2 MB\u001b[0m \u001b[31m99.5 MB/s\u001b[0m eta \u001b[36m0:00:00\u001b[0m\n",
            "\u001b[?25hDownloading numpy-1.26.4-cp312-cp312-manylinux_2_17_x86_64.manylinux2014_x86_64.whl (18.0 MB)\n",
            "\u001b[2K   \u001b[90m━━━━━━━━━━━━━━━━━━━━━━━━━━━━━━━━━━━━━━━━\u001b[0m \u001b[32m18.0/18.0 MB\u001b[0m \u001b[31m117.5 MB/s\u001b[0m eta \u001b[36m0:00:00\u001b[0m\n",
            "\u001b[?25hDownloading protobuf-4.25.8-cp37-abi3-manylinux2014_x86_64.whl (294 kB)\n",
            "\u001b[2K   \u001b[90m━━━━━━━━━━━━━━━━━━━━━━━━━━━━━━━━━━━━━━━━\u001b[0m \u001b[32m294.9/294.9 kB\u001b[0m \u001b[31m26.9 MB/s\u001b[0m eta \u001b[36m0:00:00\u001b[0m\n",
            "\u001b[?25hDownloading tensorboard-2.16.2-py3-none-any.whl (5.5 MB)\n",
            "\u001b[2K   \u001b[90m━━━━━━━━━━━━━━━━━━━━━━━━━━━━━━━━━━━━━━━━\u001b[0m \u001b[32m5.5/5.5 MB\u001b[0m \u001b[31m89.0 MB/s\u001b[0m eta \u001b[36m0:00:00\u001b[0m\n",
            "\u001b[?25hInstalling collected packages: protobuf, numpy, tensorboard, ml-dtypes, tensorflow\n",
            "  Attempting uninstall: protobuf\n",
            "    Found existing installation: protobuf 5.29.5\n",
            "    Uninstalling protobuf-5.29.5:\n",
            "      Successfully uninstalled protobuf-5.29.5\n",
            "  Attempting uninstall: numpy\n",
            "    Found existing installation: numpy 2.0.2\n",
            "    Uninstalling numpy-2.0.2:\n",
            "      Successfully uninstalled numpy-2.0.2\n",
            "  Attempting uninstall: tensorboard\n",
            "    Found existing installation: tensorboard 2.19.0\n",
            "    Uninstalling tensorboard-2.19.0:\n",
            "      Successfully uninstalled tensorboard-2.19.0\n",
            "  Attempting uninstall: ml-dtypes\n",
            "    Found existing installation: ml_dtypes 0.5.3\n",
            "    Uninstalling ml_dtypes-0.5.3:\n",
            "      Successfully uninstalled ml_dtypes-0.5.3\n",
            "  Attempting uninstall: tensorflow\n",
            "    Found existing installation: tensorflow 2.19.0\n",
            "    Uninstalling tensorflow-2.19.0:\n",
            "      Successfully uninstalled tensorflow-2.19.0\n",
            "\u001b[31mERROR: pip's dependency resolver does not currently take into account all the packages that are installed. This behaviour is the source of the following dependency conflicts.\n",
            "opencv-python-headless 4.12.0.88 requires numpy<2.3.0,>=2; python_version >= \"3.9\", but you have numpy 1.26.4 which is incompatible.\n",
            "opencv-contrib-python 4.12.0.88 requires numpy<2.3.0,>=2; python_version >= \"3.9\", but you have numpy 1.26.4 which is incompatible.\n",
            "thinc 8.3.6 requires numpy<3.0.0,>=2.0.0, but you have numpy 1.26.4 which is incompatible.\n",
            "jax 0.5.3 requires ml_dtypes>=0.4.0, but you have ml-dtypes 0.3.2 which is incompatible.\n",
            "opentelemetry-proto 1.37.0 requires protobuf<7.0,>=5.0, but you have protobuf 4.25.8 which is incompatible.\n",
            "tensorstore 0.1.78 requires ml_dtypes>=0.5.0, but you have ml-dtypes 0.3.2 which is incompatible.\n",
            "tensorflow-text 2.19.0 requires tensorflow<2.20,>=2.19.0, but you have tensorflow 2.16.1 which is incompatible.\n",
            "ydf 0.13.0 requires protobuf<7.0.0,>=5.29.1, but you have protobuf 4.25.8 which is incompatible.\n",
            "opencv-python 4.12.0.88 requires numpy<2.3.0,>=2; python_version >= \"3.9\", but you have numpy 1.26.4 which is incompatible.\n",
            "tensorflow-decision-forests 1.12.0 requires tensorflow==2.19.0, but you have tensorflow 2.16.1 which is incompatible.\n",
            "tf-keras 2.19.0 requires tensorflow<2.20,>=2.19, but you have tensorflow 2.16.1 which is incompatible.\n",
            "grpcio-status 1.71.2 requires protobuf<6.0dev,>=5.26.1, but you have protobuf 4.25.8 which is incompatible.\u001b[0m\u001b[31m\n",
            "\u001b[0mSuccessfully installed ml-dtypes-0.3.2 numpy-1.26.4 protobuf-4.25.8 tensorboard-2.16.2 tensorflow-2.16.1\n"
          ]
        },
        {
          "output_type": "display_data",
          "data": {
            "application/vnd.colab-display-data+json": {
              "pip_warning": {
                "packages": [
                  "google",
                  "numpy"
                ]
              },
              "id": "e8e5add432a04194bcdd9dadb6e82929"
            }
          },
          "metadata": {}
        }
      ]
    },
    {
      "cell_type": "code",
      "execution_count": 1,
      "metadata": {
        "id": "VpIYMEJFdYty",
        "colab": {
          "base_uri": "https://localhost:8080/"
        },
        "outputId": "23cae1a9-bf92-433f-8e38-9ec65e2ddbb2"
      },
      "outputs": [
        {
          "output_type": "stream",
          "name": "stdout",
          "text": [
            "2.16.1\n"
          ]
        }
      ],
      "source": [
        "import tensorflow as tf\n",
        "import numpy as np\n",
        "print(tf.__version__)"
      ]
    },
    {
      "cell_type": "code",
      "execution_count": 2,
      "metadata": {
        "colab": {
          "base_uri": "https://localhost:8080/"
        },
        "id": "8owTeqc5dYt1",
        "outputId": "51d7cec7-2da7-402c-eaa6-8c257ad4e713"
      },
      "outputs": [
        {
          "output_type": "stream",
          "name": "stdout",
          "text": [
            "[ 0.  1.  2.  3.  4.  5.  6.  7.  8.  9. 10. 11. 12. 13. 14. 15. 16. 17.\n",
            " 18. 19. 20. 21. 22. 23. 24. 25. 26. 27. 28. 29. 30. 31. 32. 33. 34. 35.\n",
            " 36. 37. 38. 39. 40. 41. 42. 43. 44. 45. 46. 47. 48. 49.]\n",
            "(50,)\n",
            "(50, 1)\n",
            "tf.Tensor(\n",
            "[[ 0.]\n",
            " [ 1.]\n",
            " [ 2.]\n",
            " [ 3.]\n",
            " [ 4.]\n",
            " [ 5.]\n",
            " [ 6.]\n",
            " [ 7.]\n",
            " [ 8.]\n",
            " [ 9.]\n",
            " [10.]\n",
            " [11.]\n",
            " [12.]\n",
            " [13.]\n",
            " [14.]\n",
            " [15.]\n",
            " [16.]\n",
            " [17.]\n",
            " [18.]\n",
            " [19.]\n",
            " [20.]\n",
            " [21.]\n",
            " [22.]\n",
            " [23.]\n",
            " [24.]\n",
            " [25.]\n",
            " [26.]\n",
            " [27.]\n",
            " [28.]\n",
            " [29.]\n",
            " [30.]\n",
            " [31.]\n",
            " [32.]\n",
            " [33.]\n",
            " [34.]\n",
            " [35.]\n",
            " [36.]\n",
            " [37.]\n",
            " [38.]\n",
            " [39.]\n",
            " [40.]\n",
            " [41.]\n",
            " [42.]\n",
            " [43.]\n",
            " [44.]\n",
            " [45.]\n",
            " [46.]\n",
            " [47.]\n",
            " [48.]\n",
            " [49.]], shape=(50, 1), dtype=float32)\n"
          ]
        }
      ],
      "source": [
        "position=50\n",
        "a = tf.range(position, dtype=tf.float32)\n",
        "# print(a)\n",
        "print(a.numpy())\n",
        "print(a.shape)\n",
        "\n",
        "a = tf.range(position, dtype=tf.float32)[:, tf.newaxis]\n",
        "print(a.shape)\n",
        "print(a)"
      ]
    },
    {
      "cell_type": "code",
      "execution_count": 3,
      "metadata": {
        "colab": {
          "base_uri": "https://localhost:8080/"
        },
        "id": "jIOOuTnAdYt1",
        "outputId": "c95e670a-e662-433b-e804-e531276cebc3"
      },
      "outputs": [
        {
          "output_type": "stream",
          "name": "stdout",
          "text": [
            "(1, 128)\n",
            "tf.Tensor(\n",
            "[[  0.   1.   2.   3.   4.   5.   6.   7.   8.   9.  10.  11.  12.  13.\n",
            "   14.  15.  16.  17.  18.  19.  20.  21.  22.  23.  24.  25.  26.  27.\n",
            "   28.  29.  30.  31.  32.  33.  34.  35.  36.  37.  38.  39.  40.  41.\n",
            "   42.  43.  44.  45.  46.  47.  48.  49.  50.  51.  52.  53.  54.  55.\n",
            "   56.  57.  58.  59.  60.  61.  62.  63.  64.  65.  66.  67.  68.  69.\n",
            "   70.  71.  72.  73.  74.  75.  76.  77.  78.  79.  80.  81.  82.  83.\n",
            "   84.  85.  86.  87.  88.  89.  90.  91.  92.  93.  94.  95.  96.  97.\n",
            "   98.  99. 100. 101. 102. 103. 104. 105. 106. 107. 108. 109. 110. 111.\n",
            "  112. 113. 114. 115. 116. 117. 118. 119. 120. 121. 122. 123. 124. 125.\n",
            "  126. 127.]], shape=(1, 128), dtype=float32)\n"
          ]
        }
      ],
      "source": [
        "d_model = 128\n",
        "i = tf.range(d_model, dtype=tf.float32)[tf.newaxis, :]\n",
        "print(i.shape)\n",
        "print(i)"
      ]
    },
    {
      "cell_type": "code",
      "source": [
        "import matplotlib.pyplot as plt\n",
        "\n",
        "i = np.arange(128)  # [np.newaxis, :]\n",
        "# print(i)\n",
        "# print(2 * (i // 2))\n",
        "y = (2 * (i // 2))/128\n",
        "# print(y)\n",
        "y = np.power(10000, y)\n",
        "angles = 1 / y\n",
        "# print(np.power(10000, y))\n",
        "plt.plot(i,angles)\n",
        "plt.show()"
      ],
      "metadata": {
        "colab": {
          "base_uri": "https://localhost:8080/",
          "height": 430
        },
        "id": "QggH7Emt8XwU",
        "outputId": "cad09db5-1fdd-4a95-98a8-a546965be8d3"
      },
      "execution_count": 4,
      "outputs": [
        {
          "output_type": "display_data",
          "data": {
            "text/plain": [
              "<Figure size 640x480 with 1 Axes>"
            ],
            "image/png": "[encoded data removed]"
          },
          "metadata": {}
        }
      ]
    },
    {
      "cell_type": "code",
      "execution_count": 5,
      "metadata": {
        "colab": {
          "base_uri": "https://localhost:8080/"
        },
        "id": "lJwaiuJ8dYt2",
        "outputId": "07ca065f-96f6-4054-f5ed-07c57d947e83"
      },
      "outputs": [
        {
          "output_type": "stream",
          "name": "stdout",
          "text": [
            "[[1]\n",
            " [2]\n",
            " [3]\n",
            " [4]]\n",
            "[[ 3]\n",
            " [ 6]\n",
            " [ 9]\n",
            " [12]]\n"
          ]
        }
      ],
      "source": [
        "a = np.arange(1,5).reshape(4,1)\n",
        "b = 3\n",
        "c = a*b  # (4,1)*() => (4,1)(4,1)\n",
        "print(a)\n",
        "print(c)"
      ]
    },
    {
      "cell_type": "code",
      "execution_count": 6,
      "metadata": {
        "colab": {
          "base_uri": "https://localhost:8080/"
        },
        "id": "dng8DDpWdYt2",
        "outputId": "2a37a4a8-3921-4cdb-d9cf-29a84c7e2b84"
      },
      "outputs": [
        {
          "output_type": "stream",
          "name": "stdout",
          "text": [
            "[[1]\n",
            " [2]\n",
            " [3]\n",
            " [4]]\n",
            "[[ 3]\n",
            " [ 6]\n",
            " [ 9]\n",
            " [12]]\n"
          ]
        }
      ],
      "source": [
        "a = np.arange(1,5).reshape(4,1)\n",
        "b = np.array([3])\n",
        "c = a*b  # (4,1)*(1,) => (4,1)(4,1)\n",
        "print(a)\n",
        "print(c)"
      ]
    },
    {
      "cell_type": "code",
      "execution_count": 7,
      "metadata": {
        "colab": {
          "base_uri": "https://localhost:8080/"
        },
        "id": "6TKg-a-CdYt2",
        "outputId": "2b1b17b5-5fdb-468e-d278-b288587ecb48"
      },
      "outputs": [
        {
          "output_type": "stream",
          "name": "stdout",
          "text": [
            "[[ 1  2  3]\n",
            " [ 4  5  6]\n",
            " [ 7  8  9]\n",
            " [10 11 12]]\n",
            "[[ 3  6  9]\n",
            " [12 15 18]\n",
            " [21 24 27]\n",
            " [30 33 36]]\n"
          ]
        }
      ],
      "source": [
        "a = np.arange(1,13).reshape(4,3)\n",
        "b = np.array([[3],\n",
        "              [3],\n",
        "              [3],\n",
        "              [3]])\n",
        "c = a*b  # (4,3)*(4,1) => (4,3)(4,3)\n",
        "print(a)\n",
        "print(c)"
      ]
    },
    {
      "cell_type": "code",
      "execution_count": 8,
      "metadata": {
        "colab": {
          "base_uri": "https://localhost:8080/"
        },
        "id": "3bnGxDTCdYt2",
        "outputId": "d446b9bd-51f9-4475-b995-5f1004362724"
      },
      "outputs": [
        {
          "output_type": "stream",
          "name": "stdout",
          "text": [
            "[[1 2 3]]\n",
            "[[0 0 0]\n",
            " [1 2 3]\n",
            " [2 4 6]\n",
            " [3 6 9]]\n"
          ]
        }
      ],
      "source": [
        "a = np.arange(1,4).reshape(1,3)\n",
        "b = np.array([[0],\n",
        "              [1],\n",
        "              [2],\n",
        "              [3]])\n",
        "c = a*b  # (1,3)*(4,1) => (4,3)(4,3)\n",
        "print(a)\n",
        "print(c)"
      ]
    },
    {
      "cell_type": "code",
      "execution_count": 9,
      "metadata": {
        "id": "v2qkXuofdYt3",
        "colab": {
          "base_uri": "https://localhost:8080/"
        },
        "outputId": "9048833d-75db-437e-ce2e-363f177956e0"
      },
      "outputs": [
        {
          "output_type": "stream",
          "name": "stdout",
          "text": [
            "tf.Tensor(0.89399666, shape=(), dtype=float32)\n"
          ]
        }
      ],
      "source": [
        "print(tf.math.sin(90.))"
      ]
    },
    {
      "cell_type": "code",
      "execution_count": 11,
      "metadata": {
        "id": "tEyl5XkJdYt3",
        "colab": {
          "base_uri": "https://localhost:8080/"
        },
        "outputId": "0d173981-7ed9-4937-b465-936633b73d17"
      },
      "outputs": [
        {
          "output_type": "stream",
          "name": "stdout",
          "text": [
            "tf.Tensor(1.0, shape=(), dtype=float32)\n"
          ]
        }
      ],
      "source": [
        "print(tf.math.sin(90.*np.pi/180))"
      ]
    },
    {
      "cell_type": "code",
      "execution_count": 12,
      "metadata": {
        "id": "k-fil2wedYt3"
      },
      "outputs": [],
      "source": [
        "import tensorflow as tf\n",
        "import matplotlib.pyplot as plt\n",
        "import numpy as np\n",
        "\n",
        "class PositionalEncoding(tf.keras.layers.Layer):\n",
        "    def __init__(self, position, d_model):\n",
        "        # print(\"PositionalEncoding.__init__()\", position, d_model)\n",
        "        super(PositionalEncoding, self).__init__()\n",
        "        self.pos_encoding = self.positional_encoding(position, d_model)\n",
        "\n",
        "    def get_angles(self, position, i, d_model):\n",
        "        # print(\"PositionalEncoding.get_angles()\")\n",
        "        # print(position.shape)  # (50,1)\n",
        "        # print(i.shape)         # (1,128)\n",
        "        # print(d_model)         # 128\n",
        "        angles = 1 / tf.pow(10000, (2 * (i // 2)) / tf.cast(d_model, tf.float32))\n",
        "        # print(angles.shape)\n",
        "        # print(angles)\n",
        "        return position * angles    #   (50,1)*(1,128) => (50,128)*(50,128) => (50,128)\n",
        "\n",
        "    def positional_encoding(self, position, d_model):\n",
        "        # print(\"PositionalEncoding.positional_encoding()\", position, d_model)\n",
        "        angle_rads = self.get_angles(\n",
        "            position=tf.range(position, dtype=tf.float32)[:, tf.newaxis],  # (50,1)\n",
        "            i=tf.range(d_model, dtype=tf.float32)[tf.newaxis, :],          # (1,128)\n",
        "            d_model=d_model)\n",
        "\n",
        "        # print(angle_rads[:10,:10])\n",
        "        # print(angle_rads.shape)  # (50,128)\n",
        "\n",
        "        # print(angle_rads[:10, 0:11:2])\n",
        "        # print(angle_rads[:, 0::2].shape)\n",
        "\n",
        "        # 배열의 짝수 인덱스(2i)에는 사인 함수 적용\n",
        "        sines = tf.math.sin(angle_rads[:, 0::2])\n",
        "        # print(sines[:10,:10])\n",
        "        # print(sines.shape)\n",
        "\n",
        "        # 배열의 홀수 인덱스(2i+1)에는 코사인 함수 적용\n",
        "        cosines = tf.math.cos(angle_rads[:, 1::2])\n",
        "        # print(cosines[:10,:10])\n",
        "        # print(cosines.shape)\n",
        "\n",
        "        pos_encoding = tf.concat([sines, cosines], axis=-1)\n",
        "        # print(pos_encoding.shape)\n",
        "#         print(pos_encoding)\n",
        "        pos_encoding = pos_encoding[tf.newaxis, ...]\n",
        "        # print(pos_encoding.shape)  # (1, 50,128)\n",
        "        return tf.cast(pos_encoding, tf.float32)\n",
        "\n",
        "    def call(self, inputs):\n",
        "        return inputs + self.pos_encoding[:, :tf.shape(inputs)[1], :]"
      ]
    },
    {
      "cell_type": "code",
      "execution_count": 13,
      "metadata": {
        "colab": {
          "base_uri": "https://localhost:8080/",
          "height": 455
        },
        "id": "B_wi_lCGdYt3",
        "outputId": "980f293b-aef2-42ac-ce11-fd07e231ba86"
      },
      "outputs": [
        {
          "output_type": "display_data",
          "data": {
            "text/plain": [
              "<Figure size 640x480 with 2 Axes>"
            ],
            "image/png": "[encoded data removed]"
          },
          "metadata": {}
        }
      ],
      "source": [
        "sample_pos_encoding = PositionalEncoding(50, 128)\n",
        "# print(sample_pos_encoding.pos_encoding.shape)     # (1,50,128)\n",
        "#                                                    # (N,T,D)\n",
        "#                                             # tf.shape(inputs)[1]\n",
        "# print(sample_pos_encoding.pos_encoding[:, :10, :10])\n",
        "\n",
        "plt.pcolormesh(sample_pos_encoding.pos_encoding.numpy()[0], cmap='RdBu')\n",
        "plt.xlabel('Depth')\n",
        "plt.xlim((0, 128))\n",
        "plt.ylabel('Position')\n",
        "plt.colorbar()\n",
        "plt.show()"
      ]
    },
    {
      "cell_type": "code",
      "execution_count": 14,
      "metadata": {
        "colab": {
          "base_uri": "https://localhost:8080/"
        },
        "id": "cUYsinWDdYt4",
        "outputId": "19b621bf-ff82-4ceb-b233-d41c628e8726"
      },
      "outputs": [
        {
          "output_type": "stream",
          "name": "stdout",
          "text": [
            "[[[0 1]\n",
            "  [2 3]]\n",
            "\n",
            " [[4 5]\n",
            "  [6 7]]]\n",
            "[[1. 1. 1.]\n",
            " [1. 1. 1.]]\n",
            "(2, 2, 3)\n",
            "[[[ 1.  1.  1.]\n",
            "  [ 5.  5.  5.]]\n",
            "\n",
            " [[ 9.  9.  9.]\n",
            "  [13. 13. 13.]]]\n"
          ]
        }
      ],
      "source": [
        "x = np.arange(8).reshape(2,2,2)\n",
        "print(x)\n",
        "w = np.ones((2,3))\n",
        "print(w)\n",
        "out = np.dot(x,w)    # (2,2,2)(2,3)\n",
        "print(out.shape)\n",
        "print(out)"
      ]
    },
    {
      "cell_type": "code",
      "execution_count": 15,
      "metadata": {
        "colab": {
          "base_uri": "https://localhost:8080/"
        },
        "id": "YOLaYUNTdYt4",
        "outputId": "19ab889b-52b7-4260-b893-e7ab69af72ed"
      },
      "outputs": [
        {
          "output_type": "stream",
          "name": "stdout",
          "text": [
            "[[[ 0  1]\n",
            "  [ 2  3]\n",
            "  [ 4  5]]\n",
            "\n",
            " [[ 6  7]\n",
            "  [ 8  9]\n",
            "  [10 11]]]\n",
            "[[1. 1. 1.]\n",
            " [1. 1. 1.]]\n",
            "(2, 2, 2)\n",
            "[[[ 6.  9.]\n",
            "  [24. 27.]]\n",
            "\n",
            " [[ 6.  9.]\n",
            "  [24. 27.]]]\n"
          ]
        }
      ],
      "source": [
        "x = np.arange(12).reshape(2,3,2)\n",
        "print(x)\n",
        "w = np.ones((2,3))\n",
        "print(w)\n",
        "out = np.dot(w,x)    # (2,3)(2,3,2)\n",
        "print(out.shape)\n",
        "print(out)"
      ]
    },
    {
      "cell_type": "code",
      "execution_count": 16,
      "metadata": {
        "colab": {
          "base_uri": "https://localhost:8080/"
        },
        "id": "9zUZJeRHdYt4",
        "outputId": "f60a83f2-5b58-4747-8109-0163c8682e7e"
      },
      "outputs": [
        {
          "output_type": "stream",
          "name": "stdout",
          "text": [
            "tf.Tensor(\n",
            "[[[[ 0.  1.  2.  3.]\n",
            "   [ 4.  5.  6.  7.]\n",
            "   [ 8.  9. 10. 11.]]\n",
            "\n",
            "  [[12. 13. 14. 15.]\n",
            "   [16. 17. 18. 19.]\n",
            "   [20. 21. 22. 23.]]]], shape=(1, 2, 3, 4), dtype=float32)\n",
            "tf.Tensor(\n",
            "[[[[1. 1. 1. 1.]\n",
            "   [1. 1. 1. 1.]\n",
            "   [1. 1. 1. 1.]]\n",
            "\n",
            "  [[1. 1. 1. 1.]\n",
            "   [1. 1. 1. 1.]\n",
            "   [1. 1. 1. 1.]]]], shape=(1, 2, 3, 4), dtype=float32)\n",
            "(1, 2, 3, 3)\n",
            "matmul_qk= tf.Tensor(\n",
            "[[[[ 6.  6.  6.]\n",
            "   [22. 22. 22.]\n",
            "   [38. 38. 38.]]\n",
            "\n",
            "  [[54. 54. 54.]\n",
            "   [70. 70. 70.]\n",
            "   [86. 86. 86.]]]], shape=(1, 2, 3, 3), dtype=float32)\n"
          ]
        }
      ],
      "source": [
        "query = tf.constant(np.arange(24).reshape(1,2,3,4),dtype=tf.float32)\n",
        "print(query)\n",
        "\n",
        "key = tf.constant(np.ones((1,2,3,4)),dtype=tf.float32)\n",
        "print(key)\n",
        "\n",
        "matmul_qk = tf.matmul(query, key , transpose_b=True)  # (1,2,3,4)(1,2,4,3)\n",
        "print(matmul_qk.shape)\n",
        "print(\"matmul_qk=\", matmul_qk)"
      ]
    },
    {
      "cell_type": "code",
      "execution_count": 30,
      "metadata": {
        "id": "lSnenebcdYt4"
      },
      "outputs": [],
      "source": [
        "def scaled_dot_product_attention(query, key, value, mask):\n",
        "    # query 크기 : (batch_size, num_heads, query의 문장 길이, d_model/num_heads)\n",
        "    # key 크기 : (batch_size, num_heads, key의 문장 길이, d_model/num_heads)\n",
        "    # value 크기 : (batch_size, num_heads, value의 문장 길이, d_model/num_heads)\n",
        "    # padding_mask : (batch_size, 1, 1, key의 문장 길이)\n",
        "\n",
        "    # Q와 K의 곱. 어텐션 스코어 행렬.\n",
        "    matmul_qk = tf.matmul(query, key, transpose_b=True) # (1,4,4,32)(1,4,32,4) => (4,32)(32,4)\n",
        "    # print(\"matmul_qk.shape =\", matmul_qk.shape)         # (1,4,4,4)\n",
        "    # print(\"matmul_qk =\", matmul_qk)\n",
        "    # 스케일링\n",
        "    # dk의 루트값으로 나눠준다.\n",
        "    depth = tf.cast(tf.shape(key)[-1], tf.float32)\n",
        "    # print(\"depth=\",depth)\n",
        "    logits = matmul_qk / tf.math.sqrt(depth)\n",
        "    # print(\"logits=\",logits)  # (1,4,4,4)\n",
        "\n",
        "    # 마스킹. 어텐션 스코어 행렬의 마스킹 할 위치에 매우 작은 음수값을 넣는다.\n",
        "    # 매우 작은 값이므로 소프트맥스 함수를 지나면 행렬의 해당 위치의 값은 0이 된다.\n",
        "    if mask is not None:\n",
        "        logits += (mask * -1e9)  # 1 * (-1000000000)  # (1,4,4,4) += (1,1,1,4)\n",
        "\n",
        "    # print(\"logits=\",logits)  # (1,4,4,4)\n",
        "\n",
        "    # 소프트맥스 함수는 마지막 차원인 key의 문장 길이 방향으로 수행된다.\n",
        "    # attention weight : (batch_size, num_heads, query의 문장 길이, key의 문장 길이)\n",
        "    attention_weights = tf.nn.softmax(logits, axis=-1)\n",
        "    # print(\"attention_weights=\",attention_weights)\n",
        "    # print(\"attention_weights.shape =\",attention_weights.shape)  # (1,4,4,4)\n",
        "    # output : (batch_size, num_heads, query의 문장 길이, d_model/num_heads)\n",
        "    output = tf.matmul(attention_weights, value) # (1,4,4,4)(1,4,4,32) => (1,4,4,32)\n",
        "    # print(\"output.shape =\", output.shape)\n",
        "#     print(\"output =\", output)\n",
        "\n",
        "    return output, attention_weights"
      ]
    },
    {
      "cell_type": "code",
      "execution_count": 31,
      "metadata": {
        "id": "xoXqo_PodYt4"
      },
      "outputs": [],
      "source": [
        "np.set_printoptions(suppress=True)\n",
        "temp_k = tf.constant([[10,0,0],\n",
        "                      [0,10,0],\n",
        "                      [0,0,10],\n",
        "                      [0,0,10]], dtype=tf.float32)  # (4, 3)\n",
        "\n",
        "temp_v = tf.constant([[   1,0],\n",
        "                      [  10,0],\n",
        "                      [ 100,5],\n",
        "                      [1000,6]], dtype=tf.float32)  # (4, 2)\n",
        "temp_q = tf.constant([[0, 10, 0]], dtype=tf.float32)  # (1, 3)"
      ]
    },
    {
      "cell_type": "code",
      "execution_count": 32,
      "metadata": {
        "colab": {
          "base_uri": "https://localhost:8080/"
        },
        "id": "hnrRqaphdYt4",
        "outputId": "c00cd5e9-74a8-4123-fd6e-09839af07038"
      },
      "outputs": [
        {
          "output_type": "stream",
          "name": "stdout",
          "text": [
            "tf.Tensor([[0.  0.  0.5 0.5]], shape=(1, 4), dtype=float32)\n",
            "tf.Tensor([[550.    5.5]], shape=(1, 2), dtype=float32)\n"
          ]
        }
      ],
      "source": [
        "temp_q = tf.constant([[0, 0, 10]], dtype=tf.float32)\n",
        "temp_out, temp_attn = scaled_dot_product_attention(temp_q, temp_k, temp_v, None)\n",
        "print(temp_attn) # 어텐션 분포(어텐션 가중치의 나열)\n",
        "print(temp_out) # 어텐션 값"
      ]
    },
    {
      "cell_type": "code",
      "execution_count": 33,
      "metadata": {
        "colab": {
          "base_uri": "https://localhost:8080/"
        },
        "id": "Wrou0YxSdYt4",
        "outputId": "29479f67-36f5-40f8-a898-7d5558333c9d"
      },
      "outputs": [
        {
          "output_type": "stream",
          "name": "stdout",
          "text": [
            "tf.Tensor(\n",
            "[[0.  0.  0.5 0.5]\n",
            " [0.  1.  0.  0. ]\n",
            " [0.5 0.5 0.  0. ]], shape=(3, 4), dtype=float32)\n",
            "tf.Tensor(\n",
            "[[550.    5.5]\n",
            " [ 10.    0. ]\n",
            " [  5.5   0. ]], shape=(3, 2), dtype=float32)\n"
          ]
        }
      ],
      "source": [
        "temp_q = tf.constant([[0, 0, 10],\n",
        "                      [0, 10, 0],\n",
        "                      [10, 10, 0]], dtype=tf.float32)  # (3, 3)\n",
        "temp_out, temp_attn = scaled_dot_product_attention(temp_q, temp_k, temp_v, None)\n",
        "print(temp_attn) # 어텐션 분포(어텐션 가중치의 나열)\n",
        "print(temp_out) # 어텐션 값"
      ]
    },
    {
      "cell_type": "code",
      "execution_count": 34,
      "metadata": {
        "id": "mxFmjiqRdYt4",
        "colab": {
          "base_uri": "https://localhost:8080/"
        },
        "outputId": "4e1dcf1e-b0ce-4dac-9371-b00a2f203594"
      },
      "outputs": [
        {
          "output_type": "stream",
          "name": "stdout",
          "text": [
            "[]\n",
            "(1, 3)\n",
            "[<Variable path=dense_21/kernel, shape=(3, 4), dtype=float32, value=[[-0.517818    0.54602206  0.44037986  0.40640223]\n",
            " [-0.3450306   0.13637328  0.8030313  -0.2208466 ]\n",
            " [-0.6432487  -0.52439404  0.0560531  -0.86258614]]>, <Variable path=dense_21/bias, shape=(4,), dtype=float32, value=[0. 0. 0. 0.]>]\n"
          ]
        }
      ],
      "source": [
        "dense1 = tf.keras.layers.Dense(4)  # weight = (?,4)  , bias = (4,)\n",
        "# dir(dense1)\n",
        "print(dense1.weights)\n",
        "x = tf.constant([[1,2,3]])\n",
        "print(x.shape)\n",
        "out = dense1(x)   # (1,3)(3,4)+(4,)\n",
        "print(dense1.weights)"
      ]
    },
    {
      "cell_type": "code",
      "execution_count": 35,
      "metadata": {
        "id": "UPEQrb-ZdYt4",
        "colab": {
          "base_uri": "https://localhost:8080/"
        },
        "outputId": "a8e127fc-eaed-462e-a7cf-ad37f9f03379"
      },
      "outputs": [
        {
          "output_type": "stream",
          "name": "stdout",
          "text": [
            "AAA.foo()\n",
            "AAA.call()\n"
          ]
        }
      ],
      "source": [
        "class MyLayer:\n",
        "    def __call__(self):\n",
        "        self.call()\n",
        "\n",
        "class AAA(MyLayer):\n",
        "    def foo(self):\n",
        "        print(\"AAA.foo()\")\n",
        "\n",
        "    def call(self):\n",
        "        print(\"AAA.call()\")\n",
        "\n",
        "aaa = AAA()\n",
        "aaa.foo()\n",
        "aaa()"
      ]
    },
    {
      "cell_type": "code",
      "execution_count": 37,
      "metadata": {
        "id": "C-6hHalldYt4"
      },
      "outputs": [],
      "source": [
        "class MultiHeadAttention(tf.keras.layers.Layer):\n",
        "\n",
        "    def __init__(self, d_model, num_heads, name=\"multi_head_attention\"):\n",
        "        super(MultiHeadAttention, self).__init__(name=name)\n",
        "\n",
        "        # print(\"MultiHeadAttention.__init__()\")\n",
        "        self.num_heads = num_heads     # 4\n",
        "        self.d_model = d_model         # 128\n",
        "\n",
        "        assert d_model % self.num_heads == 0\n",
        "\n",
        "        # d_model을 num_heads로 나눈 값.\n",
        "        # 논문 기준 : 64\n",
        "        self.depth = d_model // self.num_heads  # 32\n",
        "        # print(\"self.depth=\", self.depth)\n",
        "\n",
        "        # WQ, WK, WV에 해당하는 밀집층 정의\n",
        "        self.query_dense = tf.keras.layers.Dense(units=d_model)  # (128,128)\n",
        "        self.key_dense = tf.keras.layers.Dense(units=d_model)\n",
        "        self.value_dense = tf.keras.layers.Dense(units=d_model)\n",
        "\n",
        "        # print(self.query_dense.weights)\n",
        "        # WO에 해당하는 밀집층 정의\n",
        "        self.dense = tf.keras.layers.Dense(units=d_model)  # (128,128)\n",
        "\n",
        "  # num_heads 개수만큼 q, k, v를 split하는 함수\n",
        "    def split_heads(self, inputs, batch_size):\n",
        "#         print(\"split_heads()\")\n",
        "#         print(inputs.shape)\n",
        "        inputs = tf.reshape(                                             # (1,4,128)\n",
        "                                                                         # (batch_size, query의 문장 길이, num_heads, d_model/num_heads)\n",
        "            inputs, shape=(batch_size, -1, self.num_heads, self.depth))  # (1,4,4,32)\n",
        "                                                                         # (batch_size, num_heads, query의 문장 길이, d_model/num_heads)\n",
        "#         print(inputs.shape)                                            # (1,4,4,32)\n",
        "        return tf.transpose(inputs, perm=[0, 2, 1, 3])\n",
        "\n",
        "    def call(self, inputs):\n",
        "        query, key, value, mask = inputs['query'], inputs['key'], inputs[\n",
        "            'value'], inputs['mask']\n",
        "        batch_size = tf.shape(query)[0]\n",
        "#         print(\"batch_size=\", batch_size)\n",
        "\n",
        "        # print(query[0,0,:10])\n",
        "        # print(key[0,0,:10])\n",
        "\n",
        "        # 1. WQ, WK, WV에 해당하는 밀집층 지나기\n",
        "        # q : (batch_size, query의 문장 길이, d_model)  =>  (1,4,128)\n",
        "        # k : (batch_size, key의 문장 길이, d_model)\n",
        "        # v : (batch_size, value의 문장 길이, d_model)\n",
        "        # 참고) 인코더(k, v)-디코더(q) 어텐션에서는 query 길이와 key, value의 길이는 다를 수 있다.\n",
        "        query = self.query_dense(query)    # (1,4,128)(128,128) => (1,4,128)\n",
        "        key = self.key_dense(key)          # (1,4,128)(128,128) => (1,4,128)\n",
        "        value = self.value_dense(value)    # (1,4,128)(128,128) => (1,4,128)\n",
        "\n",
        "        # print(self.query_dense.weights[0].shape)\n",
        "        # print(query.shape)\n",
        "        # print(key.shape)\n",
        "        # print(value.shape)\n",
        "\n",
        "        # print(query[0,0,:10])\n",
        "        # print(key[0,0,:10])\n",
        "\n",
        "        # 2. 헤드 나누기\n",
        "        # q : (batch_size, num_heads, query의 문장 길이, d_model/num_heads)\n",
        "        # k : (batch_size, num_heads, key의 문장 길이, d_model/num_heads)\n",
        "        # v : (batch_size, num_heads, value의 문장 길이, d_model/num_heads)\n",
        "        query = self.split_heads(query, batch_size)\n",
        "        key = self.split_heads(key, batch_size)\n",
        "        value = self.split_heads(value, batch_size)\n",
        "        # print(query.shape)\n",
        "        # print(key.shape)\n",
        "        # print(value.shape)\n",
        "\n",
        "\n",
        "        # 3. 스케일드 닷 프로덕트 어텐션. 앞서 구현한 함수 사용.\n",
        "        # (batch_size, num_heads, query의 문장 길이, d_model/num_heads)\n",
        "        scaled_attention, _ = scaled_dot_product_attention(query, key, value, mask)\n",
        "        # (batch_size, query의 문장 길이, num_heads, d_model/num_heads)\n",
        "        scaled_attention = tf.transpose(scaled_attention, perm=[0, 2, 1, 3])\n",
        "#         print('scaled_attention.shape=',scaled_attention.shape)\n",
        "\n",
        "        # 4. 헤드 연결(concatenate)하기\n",
        "        # (batch_size, query의 문장 길이, d_model)\n",
        "        concat_attention = tf.reshape(scaled_attention,\n",
        "                                  (batch_size, -1, self.d_model))\n",
        "#         print('concat_attention.shape=',concat_attention.shape)\n",
        "\n",
        "        # 5. WO에 해당하는 밀집층 지나기\n",
        "        # (batch_size, query의 문장 길이, d_model)\n",
        "        outputs = self.dense(concat_attention)  # (1,4,128)(128,128) => (1,4,128)\n",
        "#         print('outputs.shape=',outputs.shape)\n",
        "\n",
        "        return outputs"
      ]
    },
    {
      "cell_type": "code",
      "execution_count": 42,
      "metadata": {
        "colab": {
          "base_uri": "https://localhost:8080/"
        },
        "id": "auXay6eCdYt5",
        "outputId": "b2796549-b18c-4927-b4ca-55746c15e80b"
      },
      "outputs": [
        {
          "output_type": "stream",
          "name": "stdout",
          "text": [
            "(1, 4, 128)\n"
          ]
        }
      ],
      "source": [
        "mha = MultiHeadAttention(128,4)\n",
        "x = tf.constant(np.random.randn(1,4,128))\n",
        "inputs = { 'query':x, 'key':x, 'value':x, 'mask':tf.zeros((1, 1, 1, 4)) }\n",
        "outputs = mha(inputs)\n",
        "print(outputs.shape)"
      ]
    },
    {
      "cell_type": "code",
      "source": [
        "a = np.arange(24).reshape(2,3,4)\n",
        "b = np.ones((4,2))\n",
        "c = np.dot(a,b)    # (2,3,4)(4,2) => (2,3,2)\n",
        "print(c)"
      ],
      "metadata": {
        "id": "Ony1lHVOGykY",
        "colab": {
          "base_uri": "https://localhost:8080/"
        },
        "outputId": "092c6933-42b8-4103-d522-9e9b05f170e7"
      },
      "execution_count": 43,
      "outputs": [
        {
          "output_type": "stream",
          "name": "stdout",
          "text": [
            "[[[ 6.  6.]\n",
            "  [22. 22.]\n",
            "  [38. 38.]]\n",
            "\n",
            " [[54. 54.]\n",
            "  [70. 70.]\n",
            "  [86. 86.]]]\n"
          ]
        }
      ]
    },
    {
      "cell_type": "code",
      "source": [
        "a = tf.constant(np.arange(24).reshape(2,2,2,3), dtype=tf.float32)\n",
        "b = tf.ones((2,2,2,3))\n",
        "\n",
        "c = tf.matmul(a, b, transpose_b=True)\n",
        "print(c.shape)\n",
        "print(c)"
      ],
      "metadata": {
        "colab": {
          "base_uri": "https://localhost:8080/"
        },
        "id": "LqUlrsZ_ICJV",
        "outputId": "66ef580c-720d-4797-dbb0-ab6c7351e99a"
      },
      "execution_count": 44,
      "outputs": [
        {
          "output_type": "stream",
          "name": "stdout",
          "text": [
            "(2, 2, 2, 2)\n",
            "tf.Tensor(\n",
            "[[[[ 3.  3.]\n",
            "   [12. 12.]]\n",
            "\n",
            "  [[21. 21.]\n",
            "   [30. 30.]]]\n",
            "\n",
            "\n",
            " [[[39. 39.]\n",
            "   [48. 48.]]\n",
            "\n",
            "  [[57. 57.]\n",
            "   [66. 66.]]]], shape=(2, 2, 2, 2), dtype=float32)\n"
          ]
        }
      ]
    },
    {
      "cell_type": "code",
      "execution_count": 45,
      "metadata": {
        "id": "H1Yo4Hn2dYt5"
      },
      "outputs": [],
      "source": [
        "def create_padding_mask(x):\n",
        "    # print(x.shape)\n",
        "    mask = tf.cast(tf.math.equal(x, 0), tf.float32) # (2,5)\n",
        "    # (batch_size, 1, 1, key의 문장 길이)\n",
        "    # print(mask) #  [[0, 0, 0, 1, 1],\n",
        "                #   [1, 1, 0, 0, 0]]  (2,5)\n",
        "    return mask[:, tf.newaxis, tf.newaxis, :]  # (2,1,1,5)"
      ]
    },
    {
      "cell_type": "code",
      "execution_count": 46,
      "metadata": {
        "id": "dC2mAUP7dYt5",
        "colab": {
          "base_uri": "https://localhost:8080/"
        },
        "outputId": "b8b475f2-be2e-4c8b-e1f2-a77f956c7a9f"
      },
      "outputs": [
        {
          "output_type": "stream",
          "name": "stdout",
          "text": [
            "tf.Tensor([[[[0. 0. 0. 1. 1.]]]], shape=(1, 1, 1, 5), dtype=float32)\n"
          ]
        }
      ],
      "source": [
        "print(create_padding_mask(tf.constant([[1, 21, 777, 0, 0]])))  # (1,1,1,5)"
      ]
    },
    {
      "cell_type": "code",
      "execution_count": 47,
      "metadata": {
        "id": "bB6nlp0idYt5",
        "colab": {
          "base_uri": "https://localhost:8080/"
        },
        "outputId": "6f3188fe-fe08-4e7e-d24e-757aaa2fc430"
      },
      "outputs": [
        {
          "output_type": "stream",
          "name": "stdout",
          "text": [
            "tf.Tensor(\n",
            "[[[[0. 0. 0. 1. 1.]]]\n",
            "\n",
            "\n",
            " [[[1. 1. 0. 0. 0.]]]], shape=(2, 1, 1, 5), dtype=float32)\n"
          ]
        }
      ],
      "source": [
        "print(create_padding_mask(tf.constant([[1, 21, 777, 0, 0],\n",
        "                                       [0, 0, 777, 23, 25]])))  # (2,1,1,5)"
      ]
    },
    {
      "cell_type": "code",
      "execution_count": 48,
      "metadata": {
        "id": "I957UlBadYt5",
        "colab": {
          "base_uri": "https://localhost:8080/"
        },
        "outputId": "19b2637f-829d-4aaf-d182-12e6fadb224c"
      },
      "outputs": [
        {
          "output_type": "stream",
          "name": "stdout",
          "text": [
            "tf.Tensor([[[[0. 1. 0. 1.]]]], shape=(1, 1, 1, 4), dtype=float32)\n",
            "(1, 4, 128)\n"
          ]
        }
      ],
      "source": [
        "x = tf.constant(np.random.randn(1,4,128))\n",
        "\n",
        "mask = create_padding_mask(tf.constant([[1, 0, 777, 0]]))  # (1,1,1,4)\n",
        "print(mask)\n",
        "outputs = MultiHeadAttention(128,4)({ 'query':x, 'key':x, 'value':x, 'mask':mask })\n",
        "print(outputs.shape)\n",
        "# print(outputs)"
      ]
    },
    {
      "cell_type": "code",
      "execution_count": 49,
      "metadata": {
        "id": "Cv4X4RlTdYt5"
      },
      "outputs": [],
      "source": [
        "def encoder_layer(dff, d_model, num_heads, dropout, name=\"encoder_layer\"):\n",
        "    inputs = tf.keras.Input(shape=(None, d_model), name=\"inputs\")   # (None,None,128)\n",
        "\n",
        "    # 인코더는 패딩 마스크 사용\n",
        "    padding_mask = tf.keras.Input(shape=(1, 1, None), name=\"padding_mask\")  # (None,1,1,None)\n",
        "\n",
        "    # 멀티-헤드 어텐션 (첫번째 서브층 / 셀프 어텐션)\n",
        "    attention = MultiHeadAttention(\n",
        "        d_model, num_heads, name=\"attention\")({\n",
        "            'query': inputs, 'key': inputs, 'value': inputs, # Q = K = V\n",
        "            'mask': padding_mask # 패딩 마스크 사용\n",
        "        })\n",
        "\n",
        "#     print('attention.shape=', attention.shape)  # (64,40,128)\n",
        "\n",
        "    # 드롭아웃 + 잔차 연결과 층 정규화\n",
        "    attention = tf.keras.layers.Dropout(rate=dropout)(attention)\n",
        "#     print('attention.shape=', attention.shape)  # (64,40,128)\n",
        "    attention = tf.keras.layers.LayerNormalization(\n",
        "        epsilon=1e-6)(inputs + attention)  # (64,40,128) + (64,40,128)\n",
        "\n",
        "#     print('attention.shape=', attention.shape)\n",
        "\n",
        "    # 포지션 와이즈 피드 포워드 신경망 (두번째 서브층)\n",
        "    outputs = tf.keras.layers.Dense(units=dff, activation='relu')(attention)  # (64,40,128)(128,512)=>(64,40,512)\n",
        "    outputs = tf.keras.layers.Dense(units=d_model)(outputs)  # (64,40,512)(512,128)=>(64,40,128)\n",
        "\n",
        "    # 드롭아웃 + 잔차 연결과 층 정규화\n",
        "    outputs = tf.keras.layers.Dropout(rate=dropout)(outputs)\n",
        "    outputs = tf.keras.layers.LayerNormalization(\n",
        "        epsilon=1e-6)(attention + outputs)  # (64,40,128) + (64,40,128)\n",
        "\n",
        "    return tf.keras.Model(\n",
        "        inputs=[inputs, padding_mask], outputs=outputs, name=name)"
      ]
    },
    {
      "cell_type": "code",
      "execution_count": 50,
      "metadata": {
        "id": "OodOGthsdYt5"
      },
      "outputs": [],
      "source": [
        "def encoder(vocab_size, num_layers, dff,\n",
        "            d_model, num_heads, dropout,\n",
        "            name=\"encoder\"):\n",
        "    inputs = tf.keras.Input(shape=(None,), name=\"inputs\")\n",
        "\n",
        "#     print(\"inputs.shape=\",inputs.shape)  # (None,None)\n",
        "    # 인코더는 패딩 마스크 사용\n",
        "    padding_mask = tf.keras.Input(shape=(1, 1, None), name=\"padding_mask\") # (None,1,1,None)\n",
        "#     print(\"padding_mask.shape=\",padding_mask.shape)\n",
        "\n",
        "    # 포지셔널 인코딩 + 드롭아웃                                          # (N,T)\n",
        "    embeddings = tf.keras.layers.Embedding(vocab_size, d_model)(inputs)   # (9000,128) => (N,T,D)\n",
        "    embeddings *= tf.math.sqrt(tf.cast(d_model, tf.float32))              # (64,40,128)\n",
        "    embeddings = PositionalEncoding(vocab_size, d_model)(embeddings)      # (64,40,128)\n",
        "    outputs = tf.keras.layers.Dropout(rate=dropout)(embeddings)\n",
        "\n",
        "    # 인코더를 num_layers개 쌓기\n",
        "    for i in range(num_layers):\n",
        "        outputs = encoder_layer(dff=dff, d_model=d_model, num_heads=num_heads,\n",
        "          dropout=dropout, name=\"encoder_layer_{}\".format(i),\n",
        "      )([outputs, padding_mask])\n",
        "#         print('outputs.shape=',outputs.shape)\n",
        "\n",
        "    return tf.keras.Model(\n",
        "        inputs=[inputs, padding_mask], outputs=outputs, name=name)"
      ]
    },
    {
      "cell_type": "code",
      "source": [
        "a = tf.ones((5, 5))\n",
        "print(tf.linalg.band_part(a, -1, 0))\n",
        "print(tf.linalg.band_part(a, 0, -1))"
      ],
      "metadata": {
        "colab": {
          "base_uri": "https://localhost:8080/"
        },
        "id": "ZLfTRV0MWLof",
        "outputId": "009ba641-25a8-4e7e-ff89-df38200a6371"
      },
      "execution_count": 53,
      "outputs": [
        {
          "output_type": "stream",
          "name": "stdout",
          "text": [
            "tf.Tensor(\n",
            "[[1. 0. 0. 0. 0.]\n",
            " [1. 1. 0. 0. 0.]\n",
            " [1. 1. 1. 0. 0.]\n",
            " [1. 1. 1. 1. 0.]\n",
            " [1. 1. 1. 1. 1.]], shape=(5, 5), dtype=float32)\n",
            "tf.Tensor(\n",
            "[[1. 1. 1. 1. 1.]\n",
            " [0. 1. 1. 1. 1.]\n",
            " [0. 0. 1. 1. 1.]\n",
            " [0. 0. 0. 1. 1.]\n",
            " [0. 0. 0. 0. 1.]], shape=(5, 5), dtype=float32)\n"
          ]
        }
      ]
    },
    {
      "cell_type": "code",
      "execution_count": 54,
      "metadata": {
        "id": "kXCWnTavdYt5",
        "colab": {
          "base_uri": "https://localhost:8080/"
        },
        "outputId": "e54d2154-0e7d-41e3-8c93-a9533b249e20"
      },
      "outputs": [
        {
          "output_type": "stream",
          "name": "stdout",
          "text": [
            "tf.Tensor([[5 4 1 2 3]], shape=(1, 5), dtype=int32)\n",
            "tf.Tensor(5, shape=(), dtype=int32)\n",
            "tf.Tensor(\n",
            "[[1. 1. 1. 1. 1.]\n",
            " [1. 1. 1. 1. 1.]\n",
            " [1. 1. 1. 1. 1.]\n",
            " [1. 1. 1. 1. 1.]\n",
            " [1. 1. 1. 1. 1.]], shape=(5, 5), dtype=float32)\n",
            "tf.Tensor(\n",
            "[[1. 0. 0. 0. 0.]\n",
            " [1. 1. 0. 0. 0.]\n",
            " [1. 1. 1. 0. 0.]\n",
            " [1. 1. 1. 1. 0.]\n",
            " [1. 1. 1. 1. 1.]], shape=(5, 5), dtype=float32)\n",
            "tf.Tensor(\n",
            "[[0. 1. 1. 1. 1.]\n",
            " [0. 0. 1. 1. 1.]\n",
            " [0. 0. 0. 1. 1.]\n",
            " [0. 0. 0. 0. 1.]\n",
            " [0. 0. 0. 0. 0.]], shape=(5, 5), dtype=float32)\n"
          ]
        }
      ],
      "source": [
        "x = tf.constant([[5, 4, 1, 2, 3]])\n",
        "print(x)\n",
        "seq_len = tf.shape(x)[1]\n",
        "print(seq_len)\n",
        "a = tf.ones((seq_len, seq_len))\n",
        "print(a)\n",
        "print(tf.linalg.band_part(a, -1, 0))\n",
        "print(1-tf.linalg.band_part(a, -1, 0))"
      ]
    },
    {
      "cell_type": "code",
      "execution_count": 55,
      "metadata": {
        "id": "bpsfmXf1dYt5"
      },
      "outputs": [],
      "source": [
        "def create_look_ahead_mask(x):\n",
        "    seq_len = tf.shape(x)[1]\n",
        "    print(seq_len)  # 5\n",
        "    look_ahead_mask = 1 - tf.linalg.band_part(tf.ones((seq_len, seq_len)), -1, 0)\n",
        "    padding_mask = create_padding_mask(x) # 패딩 마스크도 포함\n",
        "    return tf.maximum(look_ahead_mask, padding_mask)\n",
        "#     return look_ahead_mask"
      ]
    },
    {
      "cell_type": "code",
      "execution_count": 56,
      "metadata": {
        "id": "V5s_bQE3dYt5",
        "colab": {
          "base_uri": "https://localhost:8080/"
        },
        "outputId": "2313205e-c5e0-49e3-af7b-e863527dd5cd"
      },
      "outputs": [
        {
          "output_type": "stream",
          "name": "stdout",
          "text": [
            "tf.Tensor(5, shape=(), dtype=int32)\n",
            "tf.Tensor(\n",
            "[[[[0. 1. 1. 1. 1.]\n",
            "   [0. 0. 1. 1. 1.]\n",
            "   [0. 0. 0. 1. 1.]\n",
            "   [0. 0. 0. 0. 1.]\n",
            "   [0. 0. 0. 0. 0.]]]], shape=(1, 1, 5, 5), dtype=float32)\n"
          ]
        }
      ],
      "source": [
        "print(create_look_ahead_mask(tf.constant([[5, 4, 1, 2, 3]])))  # (N,T) => (1,5)"
      ]
    },
    {
      "cell_type": "code",
      "execution_count": 57,
      "metadata": {
        "id": "F3aejN1vdYt5"
      },
      "outputs": [],
      "source": [
        "def decoder_layer(dff, d_model, num_heads, dropout, name=\"decoder_layer\"):\n",
        "    inputs = tf.keras.Input(shape=(None, d_model), name=\"inputs\")\n",
        "    enc_outputs = tf.keras.Input(shape=(None, d_model), name=\"encoder_outputs\")\n",
        "\n",
        "    # 디코더는 룩어헤드 마스크(첫번째 서브층)와 패딩 마스크(두번째 서브층) 둘 다 사용.\n",
        "    look_ahead_mask = tf.keras.Input(\n",
        "        shape=(1, None, None), name=\"look_ahead_mask\")\n",
        "    padding_mask = tf.keras.Input(shape=(1, 1, None), name='padding_mask')\n",
        "\n",
        "    # 멀티-헤드 어텐션 (첫번째 서브층 / 마스크드 셀프 어텐션)\n",
        "    attention1 = MultiHeadAttention(\n",
        "        d_model, num_heads, name=\"attention_1\")(inputs={\n",
        "            'query': inputs, 'key': inputs, 'value': inputs, # Q = K = V\n",
        "            'mask': look_ahead_mask # 룩어헤드 마스크\n",
        "        })\n",
        "\n",
        "    # 잔차 연결과 층 정규화\n",
        "    attention1 = tf.keras.layers.LayerNormalization(\n",
        "        epsilon=1e-6)(attention1 + inputs)\n",
        "\n",
        "    # 멀티-헤드 어텐션 (두번째 서브층 / 디코더-인코더 어텐션)\n",
        "    attention2 = MultiHeadAttention(\n",
        "        d_model, num_heads, name=\"attention_2\")(inputs={\n",
        "            'query': attention1, 'key': enc_outputs, 'value': enc_outputs, # Q != K = V\n",
        "            'mask': padding_mask # 패딩 마스크\n",
        "        })\n",
        "\n",
        "    # 드롭아웃 + 잔차 연결과 층 정규화\n",
        "    attention2 = tf.keras.layers.Dropout(rate=dropout)(attention2)\n",
        "    attention2 = tf.keras.layers.LayerNormalization(\n",
        "        epsilon=1e-6)(attention2 + attention1)\n",
        "\n",
        "    # 포지션 와이즈 피드 포워드 신경망 (세번째 서브층)\n",
        "    outputs = tf.keras.layers.Dense(units=dff, activation='relu')(attention2)\n",
        "    outputs = tf.keras.layers.Dense(units=d_model)(outputs)\n",
        "\n",
        "    # 드롭아웃 + 잔차 연결과 층 정규화\n",
        "    outputs = tf.keras.layers.Dropout(rate=dropout)(outputs)\n",
        "    outputs = tf.keras.layers.LayerNormalization(\n",
        "        epsilon=1e-6)(outputs + attention2)\n",
        "\n",
        "    return tf.keras.Model(\n",
        "        inputs=[inputs, enc_outputs, look_ahead_mask, padding_mask],\n",
        "        outputs=outputs,\n",
        "        name=name)"
      ]
    },
    {
      "cell_type": "code",
      "execution_count": 58,
      "metadata": {
        "id": "thnzSS7LdYt6"
      },
      "outputs": [],
      "source": [
        "def decoder(vocab_size, num_layers, dff,\n",
        "            d_model, num_heads, dropout,\n",
        "            name='decoder'):\n",
        "    inputs = tf.keras.Input(shape=(None,), name='inputs')\n",
        "    enc_outputs = tf.keras.Input(shape=(None, d_model), name='encoder_outputs')\n",
        "\n",
        "    # 디코더는 룩어헤드 마스크(첫번째 서브층)와 패딩 마스크(두번째 서브층) 둘 다 사용.\n",
        "    look_ahead_mask = tf.keras.Input(\n",
        "        shape=(1, None, None), name='look_ahead_mask')\n",
        "    padding_mask = tf.keras.Input(shape=(1, 1, None), name='padding_mask')\n",
        "\n",
        "    # 포지셔널 인코딩 + 드롭아웃\n",
        "    embeddings = tf.keras.layers.Embedding(vocab_size, d_model)(inputs)\n",
        "    embeddings *= tf.math.sqrt(tf.cast(d_model, tf.float32))\n",
        "    embeddings = PositionalEncoding(vocab_size, d_model)(embeddings)\n",
        "    outputs = tf.keras.layers.Dropout(rate=dropout)(embeddings)\n",
        "\n",
        "    # 디코더를 num_layers개 쌓기\n",
        "    for i in range(num_layers):\n",
        "        outputs = decoder_layer(dff=dff, d_model=d_model, num_heads=num_heads,\n",
        "            dropout=dropout, name='decoder_layer_{}'.format(i),\n",
        "        )(inputs=[outputs, enc_outputs, look_ahead_mask, padding_mask])\n",
        "\n",
        "    return tf.keras.Model(\n",
        "        inputs=[inputs, enc_outputs, look_ahead_mask, padding_mask],\n",
        "        outputs=outputs,\n",
        "        name=name)"
      ]
    },
    {
      "cell_type": "code",
      "execution_count": 59,
      "metadata": {
        "id": "qnhr8R_BdYt6"
      },
      "outputs": [],
      "source": [
        "def transformer(vocab_size, num_layers, dff,\n",
        "                  d_model, num_heads, dropout,\n",
        "                  name=\"transformer\"):\n",
        "\n",
        "    # 인코더의 입력\n",
        "    inputs = tf.keras.Input(shape=(None,), name=\"inputs\")\n",
        "\n",
        "    # 디코더의 입력\n",
        "    dec_inputs = tf.keras.Input(shape=(None,), name=\"dec_inputs\")\n",
        "\n",
        "    # 인코더의 패딩 마스크\n",
        "    enc_padding_mask = tf.keras.layers.Lambda(\n",
        "        create_padding_mask, output_shape=(1, 1, None),\n",
        "        name='enc_padding_mask')(inputs)\n",
        "\n",
        "    # 디코더의 룩어헤드 마스크(첫번째 서브층)\n",
        "    look_ahead_mask = tf.keras.layers.Lambda(\n",
        "        create_look_ahead_mask, output_shape=(1, None, None),\n",
        "        name='look_ahead_mask')(dec_inputs)\n",
        "\n",
        "    # 디코더의 패딩 마스크(두번째 서브층)\n",
        "    dec_padding_mask = tf.keras.layers.Lambda(\n",
        "        create_padding_mask, output_shape=(1, 1, None),\n",
        "        name='dec_padding_mask')(inputs)\n",
        "\n",
        "    # 인코더의 출력은 enc_outputs. 디코더로 전달된다.\n",
        "    enc_outputs = encoder(vocab_size=vocab_size, num_layers=num_layers, dff=dff,\n",
        "        d_model=d_model, num_heads=num_heads, dropout=dropout,\n",
        "    )(inputs=[inputs, enc_padding_mask]) # 인코더의 입력은 입력 문장과 패딩 마스크\n",
        "\n",
        "    # 디코더의 출력은 dec_outputs. 출력층으로 전달된다.\n",
        "    dec_outputs = decoder(vocab_size=vocab_size, num_layers=num_layers, dff=dff,\n",
        "        d_model=d_model, num_heads=num_heads, dropout=dropout,\n",
        "    )(inputs=[dec_inputs, enc_outputs, look_ahead_mask, dec_padding_mask])\n",
        "\n",
        "    # 다음 단어 예측을 위한 출력층\n",
        "    outputs = tf.keras.layers.Dense(units=vocab_size, name=\"outputs\")(dec_outputs)\n",
        "\n",
        "    return tf.keras.Model(inputs=[inputs, dec_inputs], outputs=outputs, name=name)"
      ]
    }
  ],
  "metadata": {
    "kernelspec": {
      "display_name": "Python 3",
      "name": "python3"
    },
    "language_info": {
      "codemirror_mode": {
        "name": "ipython",
        "version": 3
      },
      "file_extension": ".py",
      "mimetype": "text/x-python",
      "name": "python",
      "nbconvert_exporter": "python",
      "pygments_lexer": "ipython3",
      "version": "3.9.7"
    },
    "colab": {
      "provenance": [],
      "machine_shape": "hm",
      "gpuType": "A100"
    },
    "accelerator": "GPU"
  },
  "nbformat": 4,
  "nbformat_minor": 0
}