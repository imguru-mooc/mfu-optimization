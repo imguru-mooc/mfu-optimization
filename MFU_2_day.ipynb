{
  "nbformat": 4,
  "nbformat_minor": 0,
  "metadata": {
    "colab": {
      "provenance": [],
      "gpuType": "A100"
    },
    "kernelspec": {
      "name": "python3",
      "display_name": "Python 3"
    },
    "language_info": {
      "name": "python"
    },
    "accelerator": "GPU"
  },
  "cells": [
    {
      "cell_type": "markdown",
      "source": [
        "# MFU 수업: Layer별 FLOPs 추정 실습 가이드\n",
        "\n",
        "## 🎯 실습 목표\n",
        "- 딥러닝 모델의 각 레이어별 FLOPs(Floating Point Operations) 계산 방법 이해\n",
        "- MFU(Model FLOPs Utilization) 측정 및 최적화 방법 학습\n",
        "- 실제 모델에서의 computational efficiency 분석\n",
        "\n",
        "---\n",
        "\n",
        "## 📚 Part 1: 기초 개념 및 환경 설정\n",
        "\n",
        "### 1.1 FLOPs와 MFU 개념 이해\n",
        "\n",
        "## FLOPs (Floating Point Operations)란?\n",
        "\n",
        "FLOPs는 모델이 수행하는 부동소수점 연산의 수를 의미합니다.\n",
        "- **FLOPs**: 연산의 총 개수 (작은 s)\n",
        "- **FLOPS**: 초당 연산 수 (대문자 S, Floating Point Operations Per Second)\n",
        "\n",
        "## MFU (Model FLOPs Utilization)란?\n",
        "\n",
        "MFU = (실제 달성한 FLOPS) / (이론적 최대 FLOPS) × 100%\n",
        "\n",
        "GPU가 이론적으로 낼 수 있는 최대 성능 대비 실제 모델이 활용하는 비율을 나타냅니다.\n",
        "\n",
        "### 1.2 필요 라이브러리 설치"
      ],
      "metadata": {
        "id": "ib7euzaRCGVR"
      }
    },
    {
      "cell_type": "code",
      "execution_count": 1,
      "metadata": {
        "colab": {
          "base_uri": "https://localhost:8080/"
        },
        "id": "m01uacUujF9C",
        "outputId": "3d5fb257-4f51-4e96-c1ac-db6c32c8ec1f"
      },
      "outputs": [
        {
          "output_type": "stream",
          "name": "stdout",
          "text": [
            "Requirement already satisfied: torch in /usr/local/lib/python3.12/dist-packages (2.8.0+cu126)\n",
            "Requirement already satisfied: torchvision in /usr/local/lib/python3.12/dist-packages (0.23.0+cu126)\n",
            "Requirement already satisfied: filelock in /usr/local/lib/python3.12/dist-packages (from torch) (3.20.0)\n",
            "Requirement already satisfied: typing-extensions>=4.10.0 in /usr/local/lib/python3.12/dist-packages (from torch) (4.15.0)\n",
            "Requirement already satisfied: setuptools in /usr/local/lib/python3.12/dist-packages (from torch) (75.2.0)\n",
            "Requirement already satisfied: sympy>=1.13.3 in /usr/local/lib/python3.12/dist-packages (from torch) (1.13.3)\n",
            "Requirement already satisfied: networkx in /usr/local/lib/python3.12/dist-packages (from torch) (3.5)\n",
            "Requirement already satisfied: jinja2 in /usr/local/lib/python3.12/dist-packages (from torch) (3.1.6)\n",
            "Requirement already satisfied: fsspec in /usr/local/lib/python3.12/dist-packages (from torch) (2025.3.0)\n",
            "Requirement already satisfied: nvidia-cuda-nvrtc-cu12==12.6.77 in /usr/local/lib/python3.12/dist-packages (from torch) (12.6.77)\n",
            "Requirement already satisfied: nvidia-cuda-runtime-cu12==12.6.77 in /usr/local/lib/python3.12/dist-packages (from torch) (12.6.77)\n",
            "Requirement already satisfied: nvidia-cuda-cupti-cu12==12.6.80 in /usr/local/lib/python3.12/dist-packages (from torch) (12.6.80)\n",
            "Requirement already satisfied: nvidia-cudnn-cu12==9.10.2.21 in /usr/local/lib/python3.12/dist-packages (from torch) (9.10.2.21)\n",
            "Requirement already satisfied: nvidia-cublas-cu12==12.6.4.1 in /usr/local/lib/python3.12/dist-packages (from torch) (12.6.4.1)\n",
            "Requirement already satisfied: nvidia-cufft-cu12==11.3.0.4 in /usr/local/lib/python3.12/dist-packages (from torch) (11.3.0.4)\n",
            "Requirement already satisfied: nvidia-curand-cu12==10.3.7.77 in /usr/local/lib/python3.12/dist-packages (from torch) (10.3.7.77)\n",
            "Requirement already satisfied: nvidia-cusolver-cu12==11.7.1.2 in /usr/local/lib/python3.12/dist-packages (from torch) (11.7.1.2)\n",
            "Requirement already satisfied: nvidia-cusparse-cu12==12.5.4.2 in /usr/local/lib/python3.12/dist-packages (from torch) (12.5.4.2)\n",
            "Requirement already satisfied: nvidia-cusparselt-cu12==0.7.1 in /usr/local/lib/python3.12/dist-packages (from torch) (0.7.1)\n",
            "Requirement already satisfied: nvidia-nccl-cu12==2.27.3 in /usr/local/lib/python3.12/dist-packages (from torch) (2.27.3)\n",
            "Requirement already satisfied: nvidia-nvtx-cu12==12.6.77 in /usr/local/lib/python3.12/dist-packages (from torch) (12.6.77)\n",
            "Requirement already satisfied: nvidia-nvjitlink-cu12==12.6.85 in /usr/local/lib/python3.12/dist-packages (from torch) (12.6.85)\n",
            "Requirement already satisfied: nvidia-cufile-cu12==1.11.1.6 in /usr/local/lib/python3.12/dist-packages (from torch) (1.11.1.6)\n",
            "Requirement already satisfied: triton==3.4.0 in /usr/local/lib/python3.12/dist-packages (from torch) (3.4.0)\n",
            "Requirement already satisfied: numpy in /usr/local/lib/python3.12/dist-packages (from torchvision) (2.0.2)\n",
            "Requirement already satisfied: pillow!=8.3.*,>=5.3.0 in /usr/local/lib/python3.12/dist-packages (from torchvision) (11.3.0)\n",
            "Requirement already satisfied: mpmath<1.4,>=1.1.0 in /usr/local/lib/python3.12/dist-packages (from sympy>=1.13.3->torch) (1.3.0)\n",
            "Requirement already satisfied: MarkupSafe>=2.0 in /usr/local/lib/python3.12/dist-packages (from jinja2->torch) (3.0.3)\n",
            "Collecting thop\n",
            "  Downloading thop-0.1.1.post2209072238-py3-none-any.whl.metadata (2.7 kB)\n",
            "Requirement already satisfied: torch in /usr/local/lib/python3.12/dist-packages (from thop) (2.8.0+cu126)\n",
            "Requirement already satisfied: filelock in /usr/local/lib/python3.12/dist-packages (from torch->thop) (3.20.0)\n",
            "Requirement already satisfied: typing-extensions>=4.10.0 in /usr/local/lib/python3.12/dist-packages (from torch->thop) (4.15.0)\n",
            "Requirement already satisfied: setuptools in /usr/local/lib/python3.12/dist-packages (from torch->thop) (75.2.0)\n",
            "Requirement already satisfied: sympy>=1.13.3 in /usr/local/lib/python3.12/dist-packages (from torch->thop) (1.13.3)\n",
            "Requirement already satisfied: networkx in /usr/local/lib/python3.12/dist-packages (from torch->thop) (3.5)\n",
            "Requirement already satisfied: jinja2 in /usr/local/lib/python3.12/dist-packages (from torch->thop) (3.1.6)\n",
            "Requirement already satisfied: fsspec in /usr/local/lib/python3.12/dist-packages (from torch->thop) (2025.3.0)\n",
            "Requirement already satisfied: nvidia-cuda-nvrtc-cu12==12.6.77 in /usr/local/lib/python3.12/dist-packages (from torch->thop) (12.6.77)\n",
            "Requirement already satisfied: nvidia-cuda-runtime-cu12==12.6.77 in /usr/local/lib/python3.12/dist-packages (from torch->thop) (12.6.77)\n",
            "Requirement already satisfied: nvidia-cuda-cupti-cu12==12.6.80 in /usr/local/lib/python3.12/dist-packages (from torch->thop) (12.6.80)\n",
            "Requirement already satisfied: nvidia-cudnn-cu12==9.10.2.21 in /usr/local/lib/python3.12/dist-packages (from torch->thop) (9.10.2.21)\n",
            "Requirement already satisfied: nvidia-cublas-cu12==12.6.4.1 in /usr/local/lib/python3.12/dist-packages (from torch->thop) (12.6.4.1)\n",
            "Requirement already satisfied: nvidia-cufft-cu12==11.3.0.4 in /usr/local/lib/python3.12/dist-packages (from torch->thop) (11.3.0.4)\n",
            "Requirement already satisfied: nvidia-curand-cu12==10.3.7.77 in /usr/local/lib/python3.12/dist-packages (from torch->thop) (10.3.7.77)\n",
            "Requirement already satisfied: nvidia-cusolver-cu12==11.7.1.2 in /usr/local/lib/python3.12/dist-packages (from torch->thop) (11.7.1.2)\n",
            "Requirement already satisfied: nvidia-cusparse-cu12==12.5.4.2 in /usr/local/lib/python3.12/dist-packages (from torch->thop) (12.5.4.2)\n",
            "Requirement already satisfied: nvidia-cusparselt-cu12==0.7.1 in /usr/local/lib/python3.12/dist-packages (from torch->thop) (0.7.1)\n",
            "Requirement already satisfied: nvidia-nccl-cu12==2.27.3 in /usr/local/lib/python3.12/dist-packages (from torch->thop) (2.27.3)\n",
            "Requirement already satisfied: nvidia-nvtx-cu12==12.6.77 in /usr/local/lib/python3.12/dist-packages (from torch->thop) (12.6.77)\n",
            "Requirement already satisfied: nvidia-nvjitlink-cu12==12.6.85 in /usr/local/lib/python3.12/dist-packages (from torch->thop) (12.6.85)\n",
            "Requirement already satisfied: nvidia-cufile-cu12==1.11.1.6 in /usr/local/lib/python3.12/dist-packages (from torch->thop) (1.11.1.6)\n",
            "Requirement already satisfied: triton==3.4.0 in /usr/local/lib/python3.12/dist-packages (from torch->thop) (3.4.0)\n",
            "Requirement already satisfied: mpmath<1.4,>=1.1.0 in /usr/local/lib/python3.12/dist-packages (from sympy>=1.13.3->torch->thop) (1.3.0)\n",
            "Requirement already satisfied: MarkupSafe>=2.0 in /usr/local/lib/python3.12/dist-packages (from jinja2->torch->thop) (3.0.3)\n",
            "Downloading thop-0.1.1.post2209072238-py3-none-any.whl (15 kB)\n",
            "Installing collected packages: thop\n",
            "Successfully installed thop-0.1.1.post2209072238\n",
            "Collecting fvcore\n",
            "  Downloading fvcore-0.1.5.post20221221.tar.gz (50 kB)\n",
            "\u001b[2K     \u001b[90m━━━━━━━━━━━━━━━━━━━━━━━━━━━━━━━━━━━━━━━━\u001b[0m \u001b[32m50.2/50.2 kB\u001b[0m \u001b[31m4.9 MB/s\u001b[0m eta \u001b[36m0:00:00\u001b[0m\n",
            "\u001b[?25h  Preparing metadata (setup.py) ... \u001b[?25l\u001b[?25hdone\n",
            "Requirement already satisfied: numpy in /usr/local/lib/python3.12/dist-packages (from fvcore) (2.0.2)\n",
            "Collecting yacs>=0.1.6 (from fvcore)\n",
            "  Downloading yacs-0.1.8-py3-none-any.whl.metadata (639 bytes)\n",
            "Requirement already satisfied: pyyaml>=5.1 in /usr/local/lib/python3.12/dist-packages (from fvcore) (6.0.3)\n",
            "Requirement already satisfied: tqdm in /usr/local/lib/python3.12/dist-packages (from fvcore) (4.67.1)\n",
            "Requirement already satisfied: termcolor>=1.1 in /usr/local/lib/python3.12/dist-packages (from fvcore) (3.1.0)\n",
            "Requirement already satisfied: Pillow in /usr/local/lib/python3.12/dist-packages (from fvcore) (11.3.0)\n",
            "Requirement already satisfied: tabulate in /usr/local/lib/python3.12/dist-packages (from fvcore) (0.9.0)\n",
            "Collecting iopath>=0.1.7 (from fvcore)\n",
            "  Downloading iopath-0.1.10.tar.gz (42 kB)\n",
            "\u001b[2K     \u001b[90m━━━━━━━━━━━━━━━━━━━━━━━━━━━━━━━━━━━━━━━━\u001b[0m \u001b[32m42.2/42.2 kB\u001b[0m \u001b[31m4.3 MB/s\u001b[0m eta \u001b[36m0:00:00\u001b[0m\n",
            "\u001b[?25h  Preparing metadata (setup.py) ... \u001b[?25l\u001b[?25hdone\n",
            "Requirement already satisfied: typing_extensions in /usr/local/lib/python3.12/dist-packages (from iopath>=0.1.7->fvcore) (4.15.0)\n",
            "Collecting portalocker (from iopath>=0.1.7->fvcore)\n",
            "  Downloading portalocker-3.2.0-py3-none-any.whl.metadata (8.7 kB)\n",
            "Downloading yacs-0.1.8-py3-none-any.whl (14 kB)\n",
            "Downloading portalocker-3.2.0-py3-none-any.whl (22 kB)\n",
            "Building wheels for collected packages: fvcore, iopath\n",
            "  Building wheel for fvcore (setup.py) ... \u001b[?25l\u001b[?25hdone\n",
            "  Created wheel for fvcore: filename=fvcore-0.1.5.post20221221-py3-none-any.whl size=61397 sha256=0cd7c0eb9f1d6a311d320623cff26bc1be1b23e4fda32508d02fea9364ec3eaa\n",
            "  Stored in directory: /root/.cache/pip/wheels/ed/9f/a5/e4f5b27454ccd4596bd8b62432c7d6b1ca9fa22aef9d70a16a\n",
            "  Building wheel for iopath (setup.py) ... \u001b[?25l\u001b[?25hdone\n",
            "  Created wheel for iopath: filename=iopath-0.1.10-py3-none-any.whl size=31527 sha256=26c0f31353daf6500f683297a2dc83ac127d913da4000487b4aae893144e3b5e\n",
            "  Stored in directory: /root/.cache/pip/wheels/7c/96/04/4f5f31ff812f684f69f40cb1634357812220aac58d4698048c\n",
            "Successfully built fvcore iopath\n",
            "Installing collected packages: yacs, portalocker, iopath, fvcore\n",
            "Successfully installed fvcore-0.1.5.post20221221 iopath-0.1.10 portalocker-3.2.0 yacs-0.1.8\n",
            "Collecting ptflops\n",
            "  Downloading ptflops-0.7.5-py3-none-any.whl.metadata (9.4 kB)\n",
            "Requirement already satisfied: torch>=2.0 in /usr/local/lib/python3.12/dist-packages (from ptflops) (2.8.0+cu126)\n",
            "Requirement already satisfied: filelock in /usr/local/lib/python3.12/dist-packages (from torch>=2.0->ptflops) (3.20.0)\n",
            "Requirement already satisfied: typing-extensions>=4.10.0 in /usr/local/lib/python3.12/dist-packages (from torch>=2.0->ptflops) (4.15.0)\n",
            "Requirement already satisfied: setuptools in /usr/local/lib/python3.12/dist-packages (from torch>=2.0->ptflops) (75.2.0)\n",
            "Requirement already satisfied: sympy>=1.13.3 in /usr/local/lib/python3.12/dist-packages (from torch>=2.0->ptflops) (1.13.3)\n",
            "Requirement already satisfied: networkx in /usr/local/lib/python3.12/dist-packages (from torch>=2.0->ptflops) (3.5)\n",
            "Requirement already satisfied: jinja2 in /usr/local/lib/python3.12/dist-packages (from torch>=2.0->ptflops) (3.1.6)\n",
            "Requirement already satisfied: fsspec in /usr/local/lib/python3.12/dist-packages (from torch>=2.0->ptflops) (2025.3.0)\n",
            "Requirement already satisfied: nvidia-cuda-nvrtc-cu12==12.6.77 in /usr/local/lib/python3.12/dist-packages (from torch>=2.0->ptflops) (12.6.77)\n",
            "Requirement already satisfied: nvidia-cuda-runtime-cu12==12.6.77 in /usr/local/lib/python3.12/dist-packages (from torch>=2.0->ptflops) (12.6.77)\n",
            "Requirement already satisfied: nvidia-cuda-cupti-cu12==12.6.80 in /usr/local/lib/python3.12/dist-packages (from torch>=2.0->ptflops) (12.6.80)\n",
            "Requirement already satisfied: nvidia-cudnn-cu12==9.10.2.21 in /usr/local/lib/python3.12/dist-packages (from torch>=2.0->ptflops) (9.10.2.21)\n",
            "Requirement already satisfied: nvidia-cublas-cu12==12.6.4.1 in /usr/local/lib/python3.12/dist-packages (from torch>=2.0->ptflops) (12.6.4.1)\n",
            "Requirement already satisfied: nvidia-cufft-cu12==11.3.0.4 in /usr/local/lib/python3.12/dist-packages (from torch>=2.0->ptflops) (11.3.0.4)\n",
            "Requirement already satisfied: nvidia-curand-cu12==10.3.7.77 in /usr/local/lib/python3.12/dist-packages (from torch>=2.0->ptflops) (10.3.7.77)\n",
            "Requirement already satisfied: nvidia-cusolver-cu12==11.7.1.2 in /usr/local/lib/python3.12/dist-packages (from torch>=2.0->ptflops) (11.7.1.2)\n",
            "Requirement already satisfied: nvidia-cusparse-cu12==12.5.4.2 in /usr/local/lib/python3.12/dist-packages (from torch>=2.0->ptflops) (12.5.4.2)\n",
            "Requirement already satisfied: nvidia-cusparselt-cu12==0.7.1 in /usr/local/lib/python3.12/dist-packages (from torch>=2.0->ptflops) (0.7.1)\n",
            "Requirement already satisfied: nvidia-nccl-cu12==2.27.3 in /usr/local/lib/python3.12/dist-packages (from torch>=2.0->ptflops) (2.27.3)\n",
            "Requirement already satisfied: nvidia-nvtx-cu12==12.6.77 in /usr/local/lib/python3.12/dist-packages (from torch>=2.0->ptflops) (12.6.77)\n",
            "Requirement already satisfied: nvidia-nvjitlink-cu12==12.6.85 in /usr/local/lib/python3.12/dist-packages (from torch>=2.0->ptflops) (12.6.85)\n",
            "Requirement already satisfied: nvidia-cufile-cu12==1.11.1.6 in /usr/local/lib/python3.12/dist-packages (from torch>=2.0->ptflops) (1.11.1.6)\n",
            "Requirement already satisfied: triton==3.4.0 in /usr/local/lib/python3.12/dist-packages (from torch>=2.0->ptflops) (3.4.0)\n",
            "Requirement already satisfied: mpmath<1.4,>=1.1.0 in /usr/local/lib/python3.12/dist-packages (from sympy>=1.13.3->torch>=2.0->ptflops) (1.3.0)\n",
            "Requirement already satisfied: MarkupSafe>=2.0 in /usr/local/lib/python3.12/dist-packages (from jinja2->torch>=2.0->ptflops) (3.0.3)\n",
            "Downloading ptflops-0.7.5-py3-none-any.whl (19 kB)\n",
            "Installing collected packages: ptflops\n",
            "Successfully installed ptflops-0.7.5\n",
            "Collecting torchprofile\n",
            "  Downloading torchprofile-0.0.4-py3-none-any.whl.metadata (303 bytes)\n",
            "Requirement already satisfied: numpy>=1.14 in /usr/local/lib/python3.12/dist-packages (from torchprofile) (2.0.2)\n",
            "Requirement already satisfied: torch>=1.4 in /usr/local/lib/python3.12/dist-packages (from torchprofile) (2.8.0+cu126)\n",
            "Requirement already satisfied: torchvision>=0.4 in /usr/local/lib/python3.12/dist-packages (from torchprofile) (0.23.0+cu126)\n",
            "Requirement already satisfied: filelock in /usr/local/lib/python3.12/dist-packages (from torch>=1.4->torchprofile) (3.20.0)\n",
            "Requirement already satisfied: typing-extensions>=4.10.0 in /usr/local/lib/python3.12/dist-packages (from torch>=1.4->torchprofile) (4.15.0)\n",
            "Requirement already satisfied: setuptools in /usr/local/lib/python3.12/dist-packages (from torch>=1.4->torchprofile) (75.2.0)\n",
            "Requirement already satisfied: sympy>=1.13.3 in /usr/local/lib/python3.12/dist-packages (from torch>=1.4->torchprofile) (1.13.3)\n",
            "Requirement already satisfied: networkx in /usr/local/lib/python3.12/dist-packages (from torch>=1.4->torchprofile) (3.5)\n",
            "Requirement already satisfied: jinja2 in /usr/local/lib/python3.12/dist-packages (from torch>=1.4->torchprofile) (3.1.6)\n",
            "Requirement already satisfied: fsspec in /usr/local/lib/python3.12/dist-packages (from torch>=1.4->torchprofile) (2025.3.0)\n",
            "Requirement already satisfied: nvidia-cuda-nvrtc-cu12==12.6.77 in /usr/local/lib/python3.12/dist-packages (from torch>=1.4->torchprofile) (12.6.77)\n",
            "Requirement already satisfied: nvidia-cuda-runtime-cu12==12.6.77 in /usr/local/lib/python3.12/dist-packages (from torch>=1.4->torchprofile) (12.6.77)\n",
            "Requirement already satisfied: nvidia-cuda-cupti-cu12==12.6.80 in /usr/local/lib/python3.12/dist-packages (from torch>=1.4->torchprofile) (12.6.80)\n",
            "Requirement already satisfied: nvidia-cudnn-cu12==9.10.2.21 in /usr/local/lib/python3.12/dist-packages (from torch>=1.4->torchprofile) (9.10.2.21)\n",
            "Requirement already satisfied: nvidia-cublas-cu12==12.6.4.1 in /usr/local/lib/python3.12/dist-packages (from torch>=1.4->torchprofile) (12.6.4.1)\n",
            "Requirement already satisfied: nvidia-cufft-cu12==11.3.0.4 in /usr/local/lib/python3.12/dist-packages (from torch>=1.4->torchprofile) (11.3.0.4)\n",
            "Requirement already satisfied: nvidia-curand-cu12==10.3.7.77 in /usr/local/lib/python3.12/dist-packages (from torch>=1.4->torchprofile) (10.3.7.77)\n",
            "Requirement already satisfied: nvidia-cusolver-cu12==11.7.1.2 in /usr/local/lib/python3.12/dist-packages (from torch>=1.4->torchprofile) (11.7.1.2)\n",
            "Requirement already satisfied: nvidia-cusparse-cu12==12.5.4.2 in /usr/local/lib/python3.12/dist-packages (from torch>=1.4->torchprofile) (12.5.4.2)\n",
            "Requirement already satisfied: nvidia-cusparselt-cu12==0.7.1 in /usr/local/lib/python3.12/dist-packages (from torch>=1.4->torchprofile) (0.7.1)\n",
            "Requirement already satisfied: nvidia-nccl-cu12==2.27.3 in /usr/local/lib/python3.12/dist-packages (from torch>=1.4->torchprofile) (2.27.3)\n",
            "Requirement already satisfied: nvidia-nvtx-cu12==12.6.77 in /usr/local/lib/python3.12/dist-packages (from torch>=1.4->torchprofile) (12.6.77)\n",
            "Requirement already satisfied: nvidia-nvjitlink-cu12==12.6.85 in /usr/local/lib/python3.12/dist-packages (from torch>=1.4->torchprofile) (12.6.85)\n",
            "Requirement already satisfied: nvidia-cufile-cu12==1.11.1.6 in /usr/local/lib/python3.12/dist-packages (from torch>=1.4->torchprofile) (1.11.1.6)\n",
            "Requirement already satisfied: triton==3.4.0 in /usr/local/lib/python3.12/dist-packages (from torch>=1.4->torchprofile) (3.4.0)\n",
            "Requirement already satisfied: pillow!=8.3.*,>=5.3.0 in /usr/local/lib/python3.12/dist-packages (from torchvision>=0.4->torchprofile) (11.3.0)\n",
            "Requirement already satisfied: mpmath<1.4,>=1.1.0 in /usr/local/lib/python3.12/dist-packages (from sympy>=1.13.3->torch>=1.4->torchprofile) (1.3.0)\n",
            "Requirement already satisfied: MarkupSafe>=2.0 in /usr/local/lib/python3.12/dist-packages (from jinja2->torch>=1.4->torchprofile) (3.0.3)\n",
            "Downloading torchprofile-0.0.4-py3-none-any.whl (7.7 kB)\n",
            "Installing collected packages: torchprofile\n",
            "Successfully installed torchprofile-0.0.4\n"
          ]
        }
      ],
      "source": [
        "# 필요한 패키지 설치\n",
        "!pip install torch torchvision\n",
        "!pip install thop\n",
        "!pip install fvcore\n",
        "!pip install ptflops\n",
        "!pip install torchprofile"
      ]
    },
    {
      "cell_type": "code",
      "source": [
        "import torch\n",
        "import torch.nn as nn\n",
        "import torch.nn.functional as F\n",
        "import numpy as np\n",
        "import time\n",
        "from typing import Dict, List, Tuple\n",
        "import matplotlib.pyplot as plt"
      ],
      "metadata": {
        "id": "mefFViNVCs18"
      },
      "execution_count": 2,
      "outputs": []
    },
    {
      "cell_type": "markdown",
      "source": [
        "### 1.3 GPU 정보 확인"
      ],
      "metadata": {
        "id": "CRS3JtxEC40-"
      }
    },
    {
      "cell_type": "code",
      "source": [
        "def get_gpu_info():\n",
        "    \"\"\"GPU 정보 및 이론적 최대 FLOPS 확인\"\"\"\n",
        "    if torch.cuda.is_available():\n",
        "        gpu_name = torch.cuda.get_device_name(0)\n",
        "        gpu_memory = torch.cuda.get_device_properties(0).total_memory / 1e9\n",
        "\n",
        "        # GPU별 이론적 TFLOPS (대략적인 값)\n",
        "        theoretical_tflops = {\n",
        "            'A100': 312,  # FP16 Tensor Core\n",
        "            'V100': 125,  # FP16 Tensor Core\n",
        "            'T4': 65,     # FP16 Tensor Core\n",
        "            'P100': 21.2, # FP16\n",
        "        }\n",
        "\n",
        "        print(f\"GPU: {gpu_name}\")\n",
        "        print(f\"Memory: {gpu_memory:.2f} GB\")\n",
        "\n",
        "        for gpu_model, tflops in theoretical_tflops.items():\n",
        "            if gpu_model in gpu_name:\n",
        "                print(f\"Theoretical Peak Performance: {tflops} TFLOPS (FP16)\")\n",
        "                return tflops * 1e12  # Convert to FLOPS\n",
        "\n",
        "    return None\n",
        "\n",
        "peak_flops = get_gpu_info()\n",
        "peak_flops"
      ],
      "metadata": {
        "colab": {
          "base_uri": "https://localhost:8080/"
        },
        "id": "7E25Z3HIC_Su",
        "outputId": "3ddb7fc7-417f-4b64-d605-39b58f8f7174"
      },
      "execution_count": 3,
      "outputs": [
        {
          "output_type": "stream",
          "name": "stdout",
          "text": [
            "GPU: NVIDIA A100-SXM4-40GB\n",
            "Memory: 42.47 GB\n",
            "Theoretical Peak Performance: 312 TFLOPS (FP16)\n"
          ]
        },
        {
          "output_type": "execute_result",
          "data": {
            "text/plain": [
              "312000000000000.0"
            ]
          },
          "metadata": {},
          "execution_count": 3
        }
      ]
    },
    {
      "cell_type": "markdown",
      "source": [
        "## 📊 Part 2: 기본 Layer별 FLOPs 계산\n",
        "\n",
        "### 2.1 수동 FLOPs 계산 구현"
      ],
      "metadata": {
        "id": "1-uMreqZDX1f"
      }
    },
    {
      "cell_type": "code",
      "source": [
        "class FLOPsCalculator:\n",
        "    \"\"\"각 레이어별 FLOPs를 수동으로 계산하는 클래스\"\"\"\n",
        "\n",
        "    @staticmethod\n",
        "    def conv2d_flops(in_channels, out_channels, kernel_size, input_size, stride=1, padding=0):\n",
        "        \"\"\"Conv2D 레이어의 FLOPs 계산\n",
        "\n",
        "        FLOPs = 2 × K² × C_in × C_out × H_out × W_out\n",
        "        \"\"\"\n",
        "        if isinstance(kernel_size, int):\n",
        "            kernel_size = (kernel_size, kernel_size)\n",
        "        if isinstance(stride, int):\n",
        "            stride = (stride, stride)\n",
        "        if isinstance(padding, int):\n",
        "            padding = (padding, padding)\n",
        "\n",
        "        h_out = (input_size[0] + 2 * padding[0] - kernel_size[0]) // stride[0] + 1\n",
        "        w_out = (input_size[1] + 2 * padding[1] - kernel_size[1]) // stride[1] + 1\n",
        "\n",
        "        # 곱셈과 덧셈 연산\n",
        "        multiplications = kernel_size[0] * kernel_size[1] * in_channels * out_channels * h_out * w_out\n",
        "        additions = (kernel_size[0] * kernel_size[1] * in_channels - 1) * out_channels * h_out * w_out\n",
        "\n",
        "        # Bias 추가 (optional)\n",
        "        bias_additions = out_channels * h_out * w_out\n",
        "\n",
        "        total_flops = multiplications + additions + bias_additions\n",
        "\n",
        "        return total_flops, (h_out, w_out)\n",
        "\n",
        "    @staticmethod\n",
        "    def linear_flops(in_features, out_features, batch_size=1):\n",
        "        \"\"\"Linear 레이어의 FLOPs 계산\n",
        "\n",
        "        FLOPs = 2 × in_features × out_features × batch_size\n",
        "        \"\"\"\n",
        "        multiplications = in_features * out_features * batch_size\n",
        "        additions = (in_features - 1) * out_features * batch_size\n",
        "        bias_additions = out_features * batch_size\n",
        "\n",
        "        return multiplications + additions + bias_additions\n",
        "\n",
        "    @staticmethod\n",
        "    def attention_flops(seq_len, d_model, num_heads, batch_size=1):\n",
        "        \"\"\"Multi-Head Attention의 FLOPs 계산\n",
        "\n",
        "        Q, K, V projection + Attention scores + Output projection\n",
        "        \"\"\"\n",
        "        d_head = d_model // num_heads\n",
        "\n",
        "        # Q, K, V projections\n",
        "        qkv_flops = 3 * FLOPsCalculator.linear_flops(d_model, d_model, batch_size * seq_len)\n",
        "\n",
        "        # Attention scores: Q @ K^T\n",
        "        attention_scores = 2 * batch_size * num_heads * seq_len * seq_len * d_head\n",
        "\n",
        "        # Softmax (approximated as seq_len operations per position)\n",
        "        softmax_flops = batch_size * num_heads * seq_len * seq_len * 5  # rough approximation\n",
        "\n",
        "        # Attention @ V\n",
        "        attention_output = 2 * batch_size * num_heads * seq_len * seq_len * d_head\n",
        "\n",
        "        # Output projection\n",
        "        output_projection = FLOPsCalculator.linear_flops(d_model, d_model, batch_size * seq_len)\n",
        "\n",
        "        total_flops = qkv_flops + attention_scores + softmax_flops + attention_output + output_projection\n",
        "\n",
        "        return total_flops"
      ],
      "metadata": {
        "id": "eEaqDg9aC_-l"
      },
      "execution_count": 4,
      "outputs": []
    },
    {
      "cell_type": "markdown",
      "source": [
        "### 2.2 실제 모델에 적용"
      ],
      "metadata": {
        "id": "bvyHBJHHDgxh"
      }
    },
    {
      "cell_type": "code",
      "source": [
        "# 간단한 CNN 모델 정의\n",
        "class SimpleCNN(nn.Module):\n",
        "    def __init__(self):\n",
        "        super(SimpleCNN, self).__init__()\n",
        "        self.conv1 = nn.Conv2d(3, 64, kernel_size=3, padding=1)\n",
        "        self.conv2 = nn.Conv2d(64, 128, kernel_size=3, padding=1)\n",
        "        self.conv3 = nn.Conv2d(128, 256, kernel_size=3, padding=1)\n",
        "        self.pool = nn.MaxPool2d(2, 2)\n",
        "        self.fc1 = nn.Linear(256 * 4 * 4, 512)\n",
        "        self.fc2 = nn.Linear(512, 10)\n",
        "\n",
        "    def forward(self, x):\n",
        "        x = self.pool(F.relu(self.conv1(x)))\n",
        "        x = self.pool(F.relu(self.conv2(x)))\n",
        "        x = self.pool(F.relu(self.conv3(x)))\n",
        "        x = x.view(-1, 256 * 4 * 4)\n",
        "        x = F.relu(self.fc1(x))\n",
        "        x = self.fc2(x)\n",
        "        return x\n",
        "\n",
        "# FLOPs 계산\n",
        "def calculate_model_flops(model, input_size=(32, 32)):\n",
        "    \"\"\"모델의 총 FLOPs 계산\"\"\"\n",
        "    calculator = FLOPsCalculator()\n",
        "    total_flops = 0\n",
        "    layer_flops = {}\n",
        "\n",
        "    # Conv1: 3 -> 64\n",
        "    flops, output_size = calculator.conv2d_flops(3, 64, 3, input_size, padding=1)\n",
        "    layer_flops['conv1'] = flops\n",
        "    total_flops += flops\n",
        "    output_size = (output_size[0]//2, output_size[1]//2)  # After pooling\n",
        "\n",
        "    # Conv2: 64 -> 128\n",
        "    flops, output_size = calculator.conv2d_flops(64, 128, 3, output_size, padding=1)\n",
        "    layer_flops['conv2'] = flops\n",
        "    total_flops += flops\n",
        "    output_size = (output_size[0]//2, output_size[1]//2)  # After pooling\n",
        "\n",
        "    # Conv3: 128 -> 256\n",
        "    flops, output_size = calculator.conv2d_flops(128, 256, 3, output_size, padding=1)\n",
        "    layer_flops['conv3'] = flops\n",
        "    total_flops += flops\n",
        "    output_size = (output_size[0]//2, output_size[1]//2)  # After pooling\n",
        "\n",
        "    # FC1: 256*4*4 -> 512\n",
        "    flops = calculator.linear_flops(256 * 4 * 4, 512)\n",
        "    layer_flops['fc1'] = flops\n",
        "    total_flops += flops\n",
        "\n",
        "    # FC2: 512 -> 10\n",
        "    flops = calculator.linear_flops(512, 10)\n",
        "    layer_flops['fc2'] = flops\n",
        "    total_flops += flops\n",
        "\n",
        "    return total_flops, layer_flops\n",
        "\n",
        "model = SimpleCNN()\n",
        "total_flops, layer_flops = calculate_model_flops(model)\n",
        "\n",
        "print(f\"Total FLOPs: {total_flops:,}\")\n",
        "print(\"\\nLayer-wise FLOPs:\")\n",
        "for layer, flops in layer_flops.items():\n",
        "    print(f\"  {layer}: {flops:,} ({flops/total_flops*100:.2f}%)\")"
      ],
      "metadata": {
        "colab": {
          "base_uri": "https://localhost:8080/"
        },
        "id": "Tu7yN-JuDd1J",
        "outputId": "c1421dd1-5227-49c4-c13f-d89ec6ea520f"
      },
      "execution_count": 5,
      "outputs": [
        {
          "output_type": "stream",
          "name": "stdout",
          "text": [
            "Total FLOPs: 83,240,960\n",
            "\n",
            "Layer-wise FLOPs:\n",
            "  conv1: 3,538,944 (4.25%)\n",
            "  conv2: 37,748,736 (45.35%)\n",
            "  conv3: 37,748,736 (45.35%)\n",
            "  fc1: 4,194,304 (5.04%)\n",
            "  fc2: 10,240 (0.01%)\n"
          ]
        }
      ]
    },
    {
      "cell_type": "markdown",
      "source": [
        "## 🔧 Part 3: 자동 FLOPs 프로파일링 도구 활용\n",
        "\n",
        "### 3.1 THOP 라이브러리 사용"
      ],
      "metadata": {
        "id": "8CKl8ZhoDvj7"
      }
    },
    {
      "cell_type": "code",
      "source": [
        "from thop import profile, clever_format\n",
        "\n",
        "def profile_with_thop(model, input_size=(1, 3, 32, 32)):\n",
        "    \"\"\"THOP을 사용한 FLOPs 프로파일링\"\"\"\n",
        "    input_tensor = torch.randn(input_size)\n",
        "\n",
        "    # FLOPs와 Parameters 계산\n",
        "    flops, params = profile(model, inputs=(input_tensor,))\n",
        "\n",
        "    # 읽기 쉬운 형태로 변환\n",
        "    flops, params = clever_format([flops, params], \"%.3f\")\n",
        "\n",
        "    print(f\"Model FLOPs: {flops}\")\n",
        "    print(f\"Model Parameters: {params}\")\n",
        "\n",
        "    return flops, params\n",
        "\n",
        "# 모델 프로파일링\n",
        "model = SimpleCNN()\n",
        "flops, params = profile_with_thop(model)"
      ],
      "metadata": {
        "colab": {
          "base_uri": "https://localhost:8080/"
        },
        "id": "0nrylmZeDnFz",
        "outputId": "8bab9e93-8db4-4fdb-9b4a-ae5e302ff6c5"
      },
      "execution_count": 6,
      "outputs": [
        {
          "output_type": "stream",
          "name": "stdout",
          "text": [
            "[INFO] Register count_convNd() for <class 'torch.nn.modules.conv.Conv2d'>.\n",
            "[INFO] Register zero_ops() for <class 'torch.nn.modules.pooling.MaxPool2d'>.\n",
            "[INFO] Register count_linear() for <class 'torch.nn.modules.linear.Linear'>.\n",
            "Model FLOPs: 41.620M\n",
            "Model Parameters: 2.474M\n"
          ]
        }
      ]
    },
    {
      "cell_type": "markdown",
      "source": [
        "### 3.2 FVCore 라이브러리 사용"
      ],
      "metadata": {
        "id": "6W3xwvFSD9uM"
      }
    },
    {
      "cell_type": "code",
      "source": [
        "from fvcore.nn import FlopCountAnalysis, parameter_count\n",
        "\n",
        "def profile_with_fvcore(model, input_size=(1, 3, 32, 32)):\n",
        "    \"\"\"FVCore를 사용한 상세 FLOPs 분석\"\"\"\n",
        "    input_tensor = torch.randn(input_size)\n",
        "\n",
        "    # FLOPs 분석\n",
        "    flops = FlopCountAnalysis(model, input_tensor)\n",
        "\n",
        "    # 총 FLOPs\n",
        "    total_flops = flops.total()\n",
        "\n",
        "    # 레이어별 FLOPs\n",
        "    layer_flops = flops.by_module()\n",
        "\n",
        "    # 연산 타입별 FLOPs\n",
        "    op_flops = flops.by_operator()\n",
        "\n",
        "    print(f\"Total FLOPs: {total_flops:,}\")\n",
        "    print(\"\\nFLOPs by Layer:\")\n",
        "    for name, flops_count in layer_flops.items():\n",
        "        if flops_count > 0:\n",
        "            print(f\"  {name}: {flops_count:,}\")\n",
        "\n",
        "    print(\"\\nFLOPs by Operation Type:\")\n",
        "    for op, flops_count in op_flops.items():\n",
        "        if flops_count > 0:\n",
        "            print(f\"  {op}: {flops_count:,}\")\n",
        "\n",
        "    return total_flops, layer_flops, op_flops\n",
        "\n",
        "# FVCore로 분석\n",
        "total_flops, layer_flops, op_flops = profile_with_fvcore(model)"
      ],
      "metadata": {
        "colab": {
          "base_uri": "https://localhost:8080/"
        },
        "id": "ZqEtIkEmDz7Q",
        "outputId": "a00b0d7b-c67d-4390-906c-576a57084ec1"
      },
      "execution_count": 7,
      "outputs": [
        {
          "output_type": "stream",
          "name": "stderr",
          "text": [
            "WARNING:fvcore.nn.jit_analysis:Unsupported operator aten::max_pool2d encountered 3 time(s)\n"
          ]
        },
        {
          "output_type": "stream",
          "name": "stdout",
          "text": [
            "Total FLOPs: 41,620,480\n",
            "\n",
            "FLOPs by Layer:\n",
            "  : 41,620,480\n",
            "  conv1: 1,769,472\n",
            "  conv2: 18,874,368\n",
            "  conv3: 18,874,368\n",
            "  fc1: 2,097,152\n",
            "  fc2: 5,120\n",
            "\n",
            "FLOPs by Operation Type:\n",
            "  conv: 39,518,208\n",
            "  linear: 2,102,272\n"
          ]
        }
      ]
    },
    {
      "cell_type": "markdown",
      "source": [
        "### 3.3 Custom Hook을 사용한 레이어별 분석"
      ],
      "metadata": {
        "id": "1vH0q6HUEFQT"
      }
    },
    {
      "cell_type": "code",
      "source": [
        "class LayerProfiler:\n",
        "    \"\"\"Hook을 사용한 레이어별 상세 프로파일링\"\"\"\n",
        "\n",
        "    def __init__(self):\n",
        "        self.layer_stats = {}\n",
        "\n",
        "    def hook_fn(self, module, input, output, name):\n",
        "        \"\"\"각 레이어의 입출력 shape 및 FLOPs 기록\"\"\"\n",
        "        input_shape = input[0].shape if isinstance(input, tuple) else input.shape\n",
        "        output_shape = output.shape if hasattr(output, 'shape') else output[0].shape\n",
        "\n",
        "        self.layer_stats[name] = {\n",
        "            'input_shape': input_shape,\n",
        "            'output_shape': output_shape,\n",
        "            'module_type': module.__class__.__name__\n",
        "        }\n",
        "\n",
        "        # 간단한 FLOPs 추정\n",
        "        if isinstance(module, nn.Conv2d):\n",
        "            flops = self._conv_flops(module, output_shape)\n",
        "            self.layer_stats[name]['flops'] = flops\n",
        "        elif isinstance(module, nn.Linear):\n",
        "            flops = self._linear_flops(module, output_shape)\n",
        "            self.layer_stats[name]['flops'] = flops\n",
        "\n",
        "    def _conv_flops(self, module, output_shape):\n",
        "        batch_size = output_shape[0]\n",
        "        out_h, out_w = output_shape[2], output_shape[3]\n",
        "        kernel_h, kernel_w = module.kernel_size\n",
        "        in_channels = module.in_channels\n",
        "        out_channels = module.out_channels\n",
        "\n",
        "        return 2 * batch_size * out_h * out_w * in_channels * out_channels * kernel_h * kernel_w\n",
        "\n",
        "    def _linear_flops(self, module, output_shape):\n",
        "        batch_size = output_shape[0]\n",
        "        return 2 * batch_size * module.in_features * module.out_features\n",
        "\n",
        "    def profile_model(self, model, input_tensor):\n",
        "        \"\"\"모델 전체 프로파일링\"\"\"\n",
        "        handles = []\n",
        "\n",
        "        # 각 레이어에 hook 등록\n",
        "        for name, module in model.named_modules():\n",
        "            if len(list(module.children())) == 0:  # Leaf modules only\n",
        "                handle = module.register_forward_hook(\n",
        "                    lambda m, i, o, n=name: self.hook_fn(m, i, o, n)\n",
        "                )\n",
        "                handles.append(handle)\n",
        "\n",
        "        # Forward pass\n",
        "        with torch.no_grad():\n",
        "            _ = model(input_tensor)\n",
        "\n",
        "        # Hook 제거\n",
        "        for handle in handles:\n",
        "            handle.remove()\n",
        "\n",
        "        return self.layer_stats\n",
        "\n",
        "# 프로파일링 실행\n",
        "profiler = LayerProfiler()\n",
        "input_tensor = torch.randn(1, 3, 32, 32)\n",
        "layer_stats = profiler.profile_model(model, input_tensor)\n",
        "\n",
        "print(\"Layer-wise Statistics:\")\n",
        "for name, stats in layer_stats.items():\n",
        "    print(f\"\\n{name} ({stats['module_type']}):\")\n",
        "    print(f\"  Input shape: {stats['input_shape']}\")\n",
        "    print(f\"  Output shape: {stats['output_shape']}\")\n",
        "    if 'flops' in stats:\n",
        "        print(f\"  FLOPs: {stats['flops']:,}\")"
      ],
      "metadata": {
        "colab": {
          "base_uri": "https://localhost:8080/"
        },
        "id": "dArNTw8rEBnR",
        "outputId": "45946801-07eb-4bf0-fb4e-84297c9e01b5"
      },
      "execution_count": 8,
      "outputs": [
        {
          "output_type": "stream",
          "name": "stdout",
          "text": [
            "Layer-wise Statistics:\n",
            "\n",
            "conv1 (Conv2d):\n",
            "  Input shape: torch.Size([1, 3, 32, 32])\n",
            "  Output shape: torch.Size([1, 64, 32, 32])\n",
            "  FLOPs: 3,538,944\n",
            "\n",
            "pool (MaxPool2d):\n",
            "  Input shape: torch.Size([1, 256, 8, 8])\n",
            "  Output shape: torch.Size([1, 256, 4, 4])\n",
            "\n",
            "conv2 (Conv2d):\n",
            "  Input shape: torch.Size([1, 64, 16, 16])\n",
            "  Output shape: torch.Size([1, 128, 16, 16])\n",
            "  FLOPs: 37,748,736\n",
            "\n",
            "conv3 (Conv2d):\n",
            "  Input shape: torch.Size([1, 128, 8, 8])\n",
            "  Output shape: torch.Size([1, 256, 8, 8])\n",
            "  FLOPs: 37,748,736\n",
            "\n",
            "fc1 (Linear):\n",
            "  Input shape: torch.Size([1, 4096])\n",
            "  Output shape: torch.Size([1, 512])\n",
            "  FLOPs: 4,194,304\n",
            "\n",
            "fc2 (Linear):\n",
            "  Input shape: torch.Size([1, 512])\n",
            "  Output shape: torch.Size([1, 10])\n",
            "  FLOPs: 10,240\n"
          ]
        }
      ]
    },
    {
      "cell_type": "markdown",
      "source": [
        "## 🚀 Part 4: MFU 측정 및 최적화\n",
        "\n",
        "### 4.1 실제 처리량 측정"
      ],
      "metadata": {
        "id": "5vh5FvHwEqCb"
      }
    },
    {
      "cell_type": "code",
      "source": [
        "def measure_throughput(model, batch_size, input_size=(3, 32, 32), num_iterations=100):\n",
        "    \"\"\"모델의 실제 처리량(throughput) 측정\"\"\"\n",
        "    model = model.cuda()\n",
        "    model.eval()\n",
        "\n",
        "    # Warm-up\n",
        "    dummy_input = torch.randn(batch_size, *input_size).cuda()\n",
        "    for _ in range(10):\n",
        "        _ = model(dummy_input)\n",
        "\n",
        "    torch.cuda.synchronize()\n",
        "\n",
        "    # 실제 측정\n",
        "    start_time = time.time()\n",
        "\n",
        "    for _ in range(num_iterations):\n",
        "        with torch.no_grad():\n",
        "            _ = model(dummy_input)\n",
        "\n",
        "    torch.cuda.synchronize()\n",
        "    end_time = time.time()\n",
        "\n",
        "    # 처리량 계산\n",
        "    elapsed_time = end_time - start_time\n",
        "    throughput = (batch_size * num_iterations) / elapsed_time\n",
        "\n",
        "    return throughput, elapsed_time\n",
        "\n",
        "# 다양한 배치 크기로 테스트\n",
        "batch_sizes = [1, 8, 16, 32, 64, 128]\n",
        "throughputs = []\n",
        "\n",
        "for bs in batch_sizes:\n",
        "    try:\n",
        "        throughput, elapsed_time = measure_throughput(model, bs)\n",
        "        throughputs.append(throughput)\n",
        "        print(f\"Batch size {bs}: {throughput:.2f} samples/sec\")\n",
        "    except RuntimeError as e:\n",
        "        print(f\"Batch size {bs}: OOM\")\n",
        "        throughputs.append(0)"
      ],
      "metadata": {
        "colab": {
          "base_uri": "https://localhost:8080/"
        },
        "id": "QXC524IdELiL",
        "outputId": "ac9eeaa9-14d8-4a48-f9db-377633e03f06"
      },
      "execution_count": 9,
      "outputs": [
        {
          "output_type": "stream",
          "name": "stdout",
          "text": [
            "Batch size 1: 2487.39 samples/sec\n",
            "Batch size 8: 19678.63 samples/sec\n",
            "Batch size 16: 39669.25 samples/sec\n",
            "Batch size 32: 72117.03 samples/sec\n",
            "Batch size 64: 137921.61 samples/sec\n",
            "Batch size 128: 227214.25 samples/sec\n"
          ]
        }
      ]
    },
    {
      "cell_type": "markdown",
      "source": [
        "### 4.2 MFU 계산"
      ],
      "metadata": {
        "id": "FqovASmlE3eM"
      }
    },
    {
      "cell_type": "code",
      "source": [
        "def calculate_mfu_fixed(model, batch_size, input_size=(3, 32, 32), peak_flops=None):\n",
        "    \"\"\"\n",
        "    Model FLOPs Utilization 계산 (Device 오류 수정 버전)\n",
        "\n",
        "    Args:\n",
        "        model: PyTorch 모델\n",
        "        batch_size: 배치 크기\n",
        "        input_size: 입력 크기 (C, H, W)\n",
        "        peak_flops: GPU의 이론적 최대 FLOPS\n",
        "\n",
        "    Returns:\n",
        "        dict: MFU 계산 결과\n",
        "    \"\"\"\n",
        "\n",
        "    # 1. Device 확인 및 설정\n",
        "    device = next(model.parameters()).device\n",
        "    print(f\"📍 모델 device: {device}\")\n",
        "\n",
        "    # 2. 입력 텐서를 모델과 같은 device에 생성\n",
        "    input_tensor = torch.randn(batch_size, *input_size).to(device)\n",
        "    print(f\"📍 입력 텐서 device: {input_tensor.device}\")\n",
        "\n",
        "    # 3. FLOPs 계산\n",
        "    try:\n",
        "        from fvcore.nn import FlopCountAnalysis\n",
        "        flops = FlopCountAnalysis(model, input_tensor).total()\n",
        "    except Exception as e:\n",
        "        print(f\"⚠️ FVCore 에러: {e}\")\n",
        "        # 대체 방법 사용\n",
        "        from thop import profile\n",
        "        flops, _ = profile(model, inputs=(input_tensor,), verbose=False)\n",
        "\n",
        "    # 4. 실제 처리량 측정 (수정된 버전)\n",
        "    throughput, elapsed_time = measure_throughput_fixed(model, batch_size, input_size)\n",
        "\n",
        "    # 5. 실제 FLOPS 계산\n",
        "    actual_flops_per_sec = flops * throughput / batch_size\n",
        "\n",
        "    # 6. MFU 계산\n",
        "    if peak_flops:\n",
        "        mfu = (actual_flops_per_sec / peak_flops) * 100\n",
        "    else:\n",
        "        mfu = None\n",
        "\n",
        "    results = {\n",
        "        'batch_size': batch_size,\n",
        "        'model_flops': flops,\n",
        "        'throughput': throughput,\n",
        "        'actual_flops_per_sec': actual_flops_per_sec,\n",
        "        'mfu_percentage': mfu,\n",
        "        'device': str(device)\n",
        "    }\n",
        "\n",
        "    return results\n",
        "\n",
        "def measure_throughput_fixed(model, batch_size, input_size=(3, 32, 32), num_iterations=100):\n",
        "    \"\"\"\n",
        "    모델의 실제 처리량(throughput) 측정 (Device 오류 수정 버전)\n",
        "    \"\"\"\n",
        "    # 모델의 device 확인\n",
        "    device = next(model.parameters()).device\n",
        "\n",
        "    # 모델을 eval 모드로 설정\n",
        "    model.eval()\n",
        "\n",
        "    # Warm-up (중요!)\n",
        "    print(\"🔥 Warming up...\")\n",
        "    dummy_input = torch.randn(batch_size, *input_size).to(device)  # device 지정\n",
        "\n",
        "    with torch.no_grad():\n",
        "        for _ in range(10):\n",
        "            _ = model(dummy_input)\n",
        "\n",
        "    # GPU 동기화\n",
        "    if device.type == 'cuda':\n",
        "        torch.cuda.synchronize()\n",
        "\n",
        "    # 실제 측정\n",
        "    print(\"📊 Measuring throughput...\")\n",
        "    start_time = time.time()\n",
        "\n",
        "    with torch.no_grad():\n",
        "        for _ in range(num_iterations):\n",
        "            _ = model(dummy_input)\n",
        "\n",
        "    # GPU 동기화\n",
        "    if device.type == 'cuda':\n",
        "        torch.cuda.synchronize()\n",
        "\n",
        "    end_time = time.time()\n",
        "\n",
        "    # 처리량 계산\n",
        "    elapsed_time = end_time - start_time\n",
        "    throughput = (batch_size * num_iterations) / elapsed_time\n",
        "\n",
        "    print(f\"✅ 측정 완료: {throughput:.2f} samples/sec\")\n",
        "\n",
        "    return throughput, elapsed_time\n",
        "\n",
        "# ====================================\n",
        "# 🎯 실행 예제\n",
        "# ====================================\n",
        "\n",
        "# 모델 생성 및 GPU 이동\n",
        "model = SimpleCNN()\n",
        "\n",
        "# GPU 사용 가능 여부 확인\n",
        "if torch.cuda.is_available():\n",
        "    model = model.cuda()\n",
        "    print(\"✅ GPU 사용 중\")\n",
        "else:\n",
        "    print(\"⚠️ CPU 사용 중 (GPU 권장)\")\n",
        "\n",
        "# MFU 측정 (수정된 함수 사용)\n",
        "results = calculate_mfu_fixed(model, batch_size=32, peak_flops=peak_flops)\n",
        "\n",
        "# 결과 출력\n",
        "print(\"\\n\" + \"=\"*50)\n",
        "print(\"📊 MFU 측정 결과\")\n",
        "print(\"=\"*50)\n",
        "print(f\"Device: {results['device']}\")\n",
        "print(f\"Model FLOPs: {results['model_flops']:,}\")\n",
        "print(f\"Throughput: {results['throughput']:.2f} samples/sec\")\n",
        "print(f\"Actual FLOPS: {results['actual_flops_per_sec']:.2e}\")\n",
        "if results['mfu_percentage']:\n",
        "    print(f\"MFU: {results['mfu_percentage']:.2f}%\")\n",
        "else:\n",
        "    print(\"MFU: N/A (peak_flops not provided)\")"
      ],
      "metadata": {
        "colab": {
          "base_uri": "https://localhost:8080/"
        },
        "id": "n_inB1PHEyef",
        "outputId": "eb58a45d-bed5-4ec6-bbdb-09198fb53ade"
      },
      "execution_count": 11,
      "outputs": [
        {
          "output_type": "stream",
          "name": "stderr",
          "text": [
            "WARNING:fvcore.nn.jit_analysis:Unsupported operator aten::max_pool2d encountered 3 time(s)\n"
          ]
        },
        {
          "output_type": "stream",
          "name": "stdout",
          "text": [
            "✅ GPU 사용 중\n",
            "📍 모델 device: cuda:0\n",
            "📍 입력 텐서 device: cuda:0\n",
            "🔥 Warming up...\n",
            "📊 Measuring throughput...\n",
            "✅ 측정 완료: 73042.47 samples/sec\n",
            "\n",
            "==================================================\n",
            "📊 MFU 측정 결과\n",
            "==================================================\n",
            "Device: cuda:0\n",
            "Model FLOPs: 1,331,855,360\n",
            "Throughput: 73042.47 samples/sec\n",
            "Actual FLOPS: 3.04e+12\n",
            "MFU: 0.97%\n"
          ]
        }
      ]
    },
    {
      "cell_type": "markdown",
      "source": [
        "### 4.3 배치 크기별 MFU 분석"
      ],
      "metadata": {
        "id": "uyBgAkWLF4pL"
      }
    },
    {
      "cell_type": "code",
      "source": [
        "def analyze_mfu_vs_batch_size(model, batch_sizes, peak_flops=None):\n",
        "    \"\"\"배치 크기에 따른 MFU 변화 분석\"\"\"\n",
        "    results = []\n",
        "\n",
        "    for bs in batch_sizes:\n",
        "        try:\n",
        "            result = calculate_mfu_fixed(model, bs, peak_flops=peak_flops)\n",
        "            results.append(result)\n",
        "            print(f\"Batch {bs}: MFU = {result['mfu_percentage']:.2f}%\" if result['mfu_percentage'] else f\"Batch {bs}: Completed\")\n",
        "        except RuntimeError:\n",
        "            print(f\"Batch {bs}: OOM\")\n",
        "\n",
        "    return results\n",
        "\n",
        "# 분석 실행\n",
        "batch_sizes = [1, 4, 8, 16, 32, 64]\n",
        "mfu_results = analyze_mfu_vs_batch_size(model, batch_sizes, peak_flops)\n",
        "\n",
        "# 시각화\n",
        "if mfu_results and any(r['mfu_percentage'] for r in mfu_results):\n",
        "    plt.figure(figsize=(10, 6))\n",
        "    valid_results = [r for r in mfu_results if r['mfu_percentage']]\n",
        "\n",
        "    batch_sizes_plot = [r['batch_size'] for r in valid_results]\n",
        "    mfu_values = [r['mfu_percentage'] for r in valid_results]\n",
        "\n",
        "    plt.plot(batch_sizes_plot, mfu_values, 'o-', linewidth=2, markersize=8)\n",
        "    plt.xlabel('Batch Size')\n",
        "    plt.ylabel('MFU (%)')\n",
        "    plt.title('Model FLOPs Utilization vs Batch Size')\n",
        "    plt.grid(True, alpha=0.3)\n",
        "    plt.xscale('log', base=2)\n",
        "    plt.show()"
      ],
      "metadata": {
        "colab": {
          "base_uri": "https://localhost:8080/",
          "height": 1000
        },
        "id": "4ZchkG_SE8L9",
        "outputId": "7c1feb16-1b43-49fa-d7b3-cc58b0f28ddd"
      },
      "execution_count": 15,
      "outputs": [
        {
          "output_type": "stream",
          "name": "stderr",
          "text": [
            "WARNING:fvcore.nn.jit_analysis:Unsupported operator aten::max_pool2d encountered 3 time(s)\n",
            "WARNING:fvcore.nn.jit_analysis:Unsupported operator aten::max_pool2d encountered 3 time(s)\n"
          ]
        },
        {
          "output_type": "stream",
          "name": "stdout",
          "text": [
            "📍 모델 device: cuda:0\n",
            "📍 입력 텐서 device: cuda:0\n",
            "🔥 Warming up...\n",
            "📊 Measuring throughput...\n",
            "✅ 측정 완료: 1409.52 samples/sec\n",
            "Batch 1: MFU = 0.02%\n",
            "📍 모델 device: cuda:0\n",
            "📍 입력 텐서 device: cuda:0\n",
            "🔥 Warming up...\n",
            "📊 Measuring throughput...\n"
          ]
        },
        {
          "output_type": "stream",
          "name": "stderr",
          "text": [
            "WARNING:fvcore.nn.jit_analysis:Unsupported operator aten::max_pool2d encountered 3 time(s)\n",
            "WARNING:fvcore.nn.jit_analysis:Unsupported operator aten::max_pool2d encountered 3 time(s)\n"
          ]
        },
        {
          "output_type": "stream",
          "name": "stdout",
          "text": [
            "✅ 측정 완료: 5260.44 samples/sec\n",
            "Batch 4: MFU = 0.07%\n",
            "📍 모델 device: cuda:0\n",
            "📍 입력 텐서 device: cuda:0\n",
            "🔥 Warming up...\n",
            "📊 Measuring throughput...\n",
            "✅ 측정 완료: 9991.29 samples/sec\n",
            "Batch 8: MFU = 0.13%\n",
            "📍 모델 device: cuda:0\n",
            "📍 입력 텐서 device: cuda:0\n",
            "🔥 Warming up...\n",
            "📊 Measuring throughput...\n"
          ]
        },
        {
          "output_type": "stream",
          "name": "stderr",
          "text": [
            "WARNING:fvcore.nn.jit_analysis:Unsupported operator aten::max_pool2d encountered 3 time(s)\n",
            "WARNING:fvcore.nn.jit_analysis:Unsupported operator aten::max_pool2d encountered 3 time(s)\n"
          ]
        },
        {
          "output_type": "stream",
          "name": "stdout",
          "text": [
            "✅ 측정 완료: 21846.68 samples/sec\n",
            "Batch 16: MFU = 0.29%\n",
            "📍 모델 device: cuda:0\n",
            "📍 입력 텐서 device: cuda:0\n",
            "🔥 Warming up...\n",
            "📊 Measuring throughput...\n",
            "✅ 측정 완료: 42950.91 samples/sec\n",
            "Batch 32: MFU = 0.57%\n",
            "📍 모델 device: cuda:0\n",
            "📍 입력 텐서 device: cuda:0\n",
            "🔥 Warming up...\n",
            "📊 Measuring throughput...\n",
            "✅ 측정 완료: 83851.23 samples/sec\n",
            "Batch 64: MFU = 1.12%\n"
          ]
        },
        {
          "output_type": "display_data",
          "data": {
            "text/plain": [
              "<Figure size 1000x600 with 1 Axes>"
            ],
            "image/png": "[encoded data removed]"
          },
          "metadata": {}
        }
      ]
    },
    {
      "cell_type": "markdown",
      "source": [
        "## 🔍 Part 5: Transformer 모델 FLOPs 분석\n",
        "\n",
        "### 5.1 Transformer 블록 구현 및 분석"
      ],
      "metadata": {
        "id": "go1SFXNgGh4J"
      }
    },
    {
      "cell_type": "code",
      "source": [
        "class TransformerBlock(nn.Module):\n",
        "    def __init__(self, d_model=512, num_heads=8, d_ff=2048, dropout=0.1):\n",
        "        super().__init__()\n",
        "        self.attention = nn.MultiheadAttention(d_model, num_heads, dropout=dropout)\n",
        "        self.norm1 = nn.LayerNorm(d_model)\n",
        "        self.norm2 = nn.LayerNorm(d_model)\n",
        "\n",
        "        self.feed_forward = nn.Sequential(\n",
        "            nn.Linear(d_model, d_ff),\n",
        "            nn.ReLU(),\n",
        "            nn.Dropout(dropout),\n",
        "            nn.Linear(d_ff, d_model)\n",
        "        )\n",
        "        self.dropout = nn.Dropout(dropout)\n",
        "\n",
        "    def forward(self, x):\n",
        "        # Self-attention\n",
        "        attn_output, _ = self.attention(x, x, x)\n",
        "        x = self.norm1(x + self.dropout(attn_output))\n",
        "\n",
        "        # Feed-forward\n",
        "        ff_output = self.feed_forward(x)\n",
        "        x = self.norm2(x + self.dropout(ff_output))\n",
        "\n",
        "        return x\n",
        "\n",
        "def analyze_transformer_flops(seq_len=128, d_model=512, num_heads=8, d_ff=2048, batch_size=1):\n",
        "    \"\"\"Transformer 블록의 FLOPs 분석\"\"\"\n",
        "    calculator = FLOPsCalculator()\n",
        "\n",
        "    # Attention FLOPs\n",
        "    attention_flops = calculator.attention_flops(seq_len, d_model, num_heads, batch_size)\n",
        "\n",
        "    # Feed-forward FLOPs\n",
        "    ff_flops = calculator.linear_flops(d_model, d_ff, batch_size * seq_len)\n",
        "    ff_flops += calculator.linear_flops(d_ff, d_model, batch_size * seq_len)\n",
        "\n",
        "    # LayerNorm FLOPs (approximation)\n",
        "    ln_flops = 2 * 5 * d_model * seq_len * batch_size  # rough approximation\n",
        "\n",
        "    total_flops = attention_flops + ff_flops + ln_flops\n",
        "\n",
        "    print(f\"Transformer Block FLOPs Analysis:\")\n",
        "    print(f\"  Attention: {attention_flops:,} ({attention_flops/total_flops*100:.1f}%)\")\n",
        "    print(f\"  Feed-forward: {ff_flops:,} ({ff_flops/total_flops*100:.1f}%)\")\n",
        "    print(f\"  LayerNorm: {ln_flops:,} ({ln_flops/total_flops*100:.1f}%)\")\n",
        "    print(f\"  Total: {total_flops:,}\")\n",
        "\n",
        "    return total_flops\n",
        "\n",
        "# 다양한 시퀀스 길이에서 분석\n",
        "seq_lengths = [64, 128, 256, 512, 1024]\n",
        "flops_by_seq_len = []\n",
        "\n",
        "for seq_len in seq_lengths:\n",
        "    flops = analyze_transformer_flops(seq_len=seq_len)\n",
        "    flops_by_seq_len.append(flops)\n",
        "    print(f\"\\nSeq Length {seq_len}: {flops:,} FLOPs\")"
      ],
      "metadata": {
        "colab": {
          "base_uri": "https://localhost:8080/"
        },
        "id": "svcdfktFF74M",
        "outputId": "467f3868-36ba-48fa-a2e7-188b29abd343"
      },
      "execution_count": 16,
      "outputs": [
        {
          "output_type": "stream",
          "name": "stdout",
          "text": [
            "Transformer Block FLOPs Analysis:\n",
            "  Attention: 142,770,176 (34.7%)\n",
            "  Feed-forward: 268,435,456 (65.2%)\n",
            "  LayerNorm: 327,680 (0.1%)\n",
            "  Total: 411,533,312\n",
            "\n",
            "Seq Length 64: 411,533,312 FLOPs\n",
            "Transformer Block FLOPs Analysis:\n",
            "  Attention: 302,645,248 (36.0%)\n",
            "  Feed-forward: 536,870,912 (63.9%)\n",
            "  LayerNorm: 655,360 (0.1%)\n",
            "  Total: 840,171,520\n",
            "\n",
            "Seq Length 128: 840,171,520 FLOPs\n",
            "Transformer Block FLOPs Analysis:\n",
            "  Attention: 673,710,080 (38.5%)\n",
            "  Feed-forward: 1,073,741,824 (61.4%)\n",
            "  LayerNorm: 1,310,720 (0.1%)\n",
            "  Total: 1,748,762,624\n",
            "\n",
            "Seq Length 256: 1,748,762,624 FLOPs\n",
            "Transformer Block FLOPs Analysis:\n",
            "  Attention: 1,621,098,496 (43.0%)\n",
            "  Feed-forward: 2,147,483,648 (56.9%)\n",
            "  LayerNorm: 2,621,440 (0.1%)\n",
            "  Total: 3,771,203,584\n",
            "\n",
            "Seq Length 512: 3,771,203,584 FLOPs\n",
            "Transformer Block FLOPs Analysis:\n",
            "  Attention: 4,336,910,336 (50.2%)\n",
            "  Feed-forward: 4,294,967,296 (49.7%)\n",
            "  LayerNorm: 5,242,880 (0.1%)\n",
            "  Total: 8,637,120,512\n",
            "\n",
            "Seq Length 1024: 8,637,120,512 FLOPs\n"
          ]
        }
      ]
    },
    {
      "cell_type": "markdown",
      "source": [
        "### 5.2 실제 Transformer 모델 프로파일링"
      ],
      "metadata": {
        "id": "zzd-frJDGqWp"
      }
    },
    {
      "cell_type": "code",
      "source": [
        "import torch.nn.functional as F\n",
        "\n",
        "class SimpleTransformer(nn.Module):\n",
        "    def __init__(self, vocab_size=10000, d_model=512, num_heads=8,\n",
        "                 num_layers=6, d_ff=2048, max_seq_len=512):\n",
        "        super().__init__()\n",
        "        self.d_model = d_model\n",
        "        self.embedding = nn.Embedding(vocab_size, d_model)\n",
        "        self.positional_encoding = nn.Parameter(torch.randn(1, max_seq_len, d_model))\n",
        "\n",
        "        self.layers = nn.ModuleList([\n",
        "            TransformerBlock(d_model, num_heads, d_ff)\n",
        "            for _ in range(num_layers)\n",
        "        ])\n",
        "\n",
        "        self.ln_final = nn.LayerNorm(d_model)\n",
        "        self.output_projection = nn.Linear(d_model, vocab_size)\n",
        "\n",
        "    def forward(self, x):\n",
        "        seq_len = x.size(1)\n",
        "\n",
        "        # Token + Positional embeddings\n",
        "        x = self.embedding(x) * (self.d_model ** 0.5)\n",
        "        x = x + self.positional_encoding[:, :seq_len, :]\n",
        "\n",
        "        # Transformer layers\n",
        "        for layer in self.layers:\n",
        "            x = layer(x)\n",
        "\n",
        "        # Output\n",
        "        x = self.ln_final(x)\n",
        "        x = self.output_projection(x)\n",
        "\n",
        "        return x\n",
        "\n",
        "# 모델 생성 및 프로파일링\n",
        "transformer_model = SimpleTransformer(num_layers=6)\n",
        "input_ids = torch.randint(0, 10000, (1, 128))  # [batch_size, seq_len]\n",
        "\n",
        "# THOP으로 프로파일링\n",
        "flops, params = profile(transformer_model, inputs=(input_ids,))\n",
        "flops, params = clever_format([flops, params], \"%.3f\")\n",
        "print(f\"Transformer Model FLOPs: {flops}\")\n",
        "print(f\"Transformer Model Parameters: {params}\")"
      ],
      "metadata": {
        "colab": {
          "base_uri": "https://localhost:8080/"
        },
        "id": "CxAgXO2vGnK7",
        "outputId": "c4e87a66-9740-4e0e-9a2d-82cb011d51df"
      },
      "execution_count": 17,
      "outputs": [
        {
          "output_type": "stream",
          "name": "stdout",
          "text": [
            "[INFO] Register count_normalization() for <class 'torch.nn.modules.normalization.LayerNorm'>.\n",
            "[INFO] Register count_linear() for <class 'torch.nn.modules.linear.Linear'>.\n",
            "[INFO] Register zero_ops() for <class 'torch.nn.modules.activation.ReLU'>.\n",
            "[INFO] Register zero_ops() for <class 'torch.nn.modules.dropout.Dropout'>.\n",
            "[INFO] Register zero_ops() for <class 'torch.nn.modules.container.Sequential'>.\n",
            "Transformer Model FLOPs: 2.269G\n",
            "Transformer Model Parameters: 17.742M\n"
          ]
        }
      ]
    },
    {
      "cell_type": "markdown",
      "source": [
        "## 📈 Part 6: 최적화 기법 실습\n",
        "\n",
        "### 6.1 Mixed Precision Training의 FLOPs 영향"
      ],
      "metadata": {
        "id": "H8Q-_QZzHYSh"
      }
    },
    {
      "cell_type": "code",
      "source": [
        "from torch.cuda.amp import autocast, GradScaler\n",
        "\n",
        "def compare_precision_performance(model, input_tensor, num_iterations=100):\n",
        "    \"\"\"FP32 vs FP16 성능 비교\"\"\"\n",
        "    model = model.cuda()\n",
        "    input_tensor = input_tensor.cuda()\n",
        "\n",
        "    # FP32 측정\n",
        "    torch.cuda.synchronize()\n",
        "    start_fp32 = time.time()\n",
        "\n",
        "    for _ in range(num_iterations):\n",
        "        with torch.no_grad():\n",
        "            _ = model(input_tensor)\n",
        "\n",
        "    torch.cuda.synchronize()\n",
        "    time_fp32 = time.time() - start_fp32\n",
        "\n",
        "    # FP16 측정\n",
        "    torch.cuda.synchronize()\n",
        "    start_fp16 = time.time()\n",
        "\n",
        "    for _ in range(num_iterations):\n",
        "        with torch.no_grad():\n",
        "            with autocast():\n",
        "                _ = model(input_tensor)\n",
        "\n",
        "    torch.cuda.synchronize()\n",
        "    time_fp16 = time.time() - start_fp16\n",
        "\n",
        "    speedup = time_fp32 / time_fp16\n",
        "\n",
        "    print(f\"FP32 time: {time_fp32:.3f} sec\")\n",
        "    print(f\"FP16 time: {time_fp16:.3f} sec\")\n",
        "    print(f\"Speedup: {speedup:.2f}x\")\n",
        "\n",
        "    return time_fp32, time_fp16, speedup\n",
        "\n",
        "# 테스트\n",
        "model = SimpleCNN()\n",
        "input_tensor = torch.randn(32, 3, 32, 32)\n",
        "compare_precision_performance(model, input_tensor)"
      ],
      "metadata": {
        "colab": {
          "base_uri": "https://localhost:8080/"
        },
        "id": "QXxyYh2uGvgC",
        "outputId": "91e295d3-e622-48fb-dd8d-840327d620bf"
      },
      "execution_count": 18,
      "outputs": [
        {
          "output_type": "stream",
          "name": "stderr",
          "text": [
            "/tmp/ipython-input-3889274288.py:25: FutureWarning: `torch.cuda.amp.autocast(args...)` is deprecated. Please use `torch.amp.autocast('cuda', args...)` instead.\n",
            "  with autocast():\n"
          ]
        },
        {
          "output_type": "stream",
          "name": "stdout",
          "text": [
            "FP32 time: 0.044 sec\n",
            "FP16 time: 0.387 sec\n",
            "Speedup: 0.12x\n"
          ]
        },
        {
          "output_type": "execute_result",
          "data": {
            "text/plain": [
              "(0.04446244239807129, 0.38651466369628906, 0.11503429642971699)"
            ]
          },
          "metadata": {},
          "execution_count": 18
        }
      ]
    },
    {
      "cell_type": "markdown",
      "source": [
        "### 6.2 모델 최적화 기법"
      ],
      "metadata": {
        "id": "AGhEvIf3HjrP"
      }
    },
    {
      "cell_type": "code",
      "source": [
        "import copy\n",
        "def optimize_model_for_inference(model):\n",
        "    \"\"\"추론 최적화 기법 적용\"\"\"\n",
        "    model.eval()\n",
        "\n",
        "    # 1. Torch Script로 변환\n",
        "    example_input = torch.randn(1, 3, 32, 32)\n",
        "    scripted_model = torch.jit.trace(model, example_input)\n",
        "\n",
        "    # 2. CUDA로 이동 및 최적화\n",
        "    if torch.cuda.is_available():\n",
        "        model = model.cuda()\n",
        "        scripted_model = scripted_model.cuda()\n",
        "\n",
        "        # CUDNN 벤치마크 활성화\n",
        "        torch.backends.cudnn.benchmark = True\n",
        "\n",
        "    return scripted_model\n",
        "\n",
        "# 최적화 전후 비교\n",
        "original_model = SimpleCNN()\n",
        "optimized_model = optimize_model_for_inference(copy.deepcopy(original_model))\n",
        "\n",
        "# 성능 측정\n",
        "input_tensor = torch.randn(32, 3, 32, 32).cuda()\n",
        "\n",
        "# Original\n",
        "start = time.time()\n",
        "for _ in range(100):\n",
        "    with torch.no_grad():\n",
        "        _ = original_model.cuda()(input_tensor)\n",
        "torch.cuda.synchronize()\n",
        "original_time = time.time() - start\n",
        "\n",
        "# Optimized\n",
        "start = time.time()\n",
        "for _ in range(100):\n",
        "    with torch.no_grad():\n",
        "        _ = optimized_model(input_tensor)\n",
        "torch.cuda.synchronize()\n",
        "optimized_time = time.time() - start\n",
        "\n",
        "print(f\"Original model: {original_time:.3f} sec\")\n",
        "print(f\"Optimized model: {optimized_time:.3f} sec\")\n",
        "print(f\"Speedup: {original_time/optimized_time:.2f}x\")"
      ],
      "metadata": {
        "colab": {
          "base_uri": "https://localhost:8080/"
        },
        "id": "2EfKD62DHelJ",
        "outputId": "9dc9fc83-6a39-4bde-9323-c2b14f66a228"
      },
      "execution_count": 20,
      "outputs": [
        {
          "output_type": "stream",
          "name": "stdout",
          "text": [
            "Original model: 0.060 sec\n",
            "Optimized model: 0.047 sec\n",
            "Speedup: 1.28x\n"
          ]
        }
      ]
    },
    {
      "cell_type": "markdown",
      "source": [
        "### 6.3 Operator Fusion의 영향 분석"
      ],
      "metadata": {
        "id": "oQRZChTjJBhg"
      }
    },
    {
      "cell_type": "code",
      "source": [
        "class UnfusedBlock(nn.Module):\n",
        "    \"\"\"Fusion이 안된 블록\"\"\"\n",
        "    def __init__(self, in_channels, out_channels):\n",
        "        super().__init__()\n",
        "        self.conv = nn.Conv2d(in_channels, out_channels, 3, padding=1)\n",
        "        self.bn = nn.BatchNorm2d(out_channels)\n",
        "        self.relu = nn.ReLU()\n",
        "\n",
        "    def forward(self, x):\n",
        "        x = self.conv(x)\n",
        "        x = self.bn(x)\n",
        "        x = self.relu(x)\n",
        "        return x\n",
        "\n",
        "class FusedBlock(nn.Module):\n",
        "    \"\"\"Fusion된 블록\"\"\"\n",
        "    def __init__(self, in_channels, out_channels):\n",
        "        super().__init__()\n",
        "        self.conv_bn_relu = nn.Sequential(\n",
        "            nn.Conv2d(in_channels, out_channels, 3, padding=1),\n",
        "            nn.BatchNorm2d(out_channels),\n",
        "            nn.ReLU(inplace=True)\n",
        "        )\n",
        "\n",
        "    def forward(self, x):\n",
        "        return self.conv_bn_relu(x)\n",
        "\n",
        "# 성능 비교\n",
        "unfused = UnfusedBlock(64, 128).cuda()\n",
        "fused = FusedBlock(64, 128).cuda()\n",
        "input_tensor = torch.randn(32, 64, 32, 32).cuda()\n",
        "\n",
        "# 측정\n",
        "for name, module in [(\"Unfused\", unfused), (\"Fused\", fused)]:\n",
        "    torch.cuda.synchronize()\n",
        "    start = time.time()\n",
        "\n",
        "    for _ in range(1000):\n",
        "        with torch.no_grad():\n",
        "            _ = module(input_tensor)\n",
        "\n",
        "    torch.cuda.synchronize()\n",
        "    elapsed = time.time() - start\n",
        "    print(f\"{name}: {elapsed:.3f} sec\")"
      ],
      "metadata": {
        "colab": {
          "base_uri": "https://localhost:8080/"
        },
        "id": "brAhuLHBHm17",
        "outputId": "e1f169fb-e3b3-4edc-bc92-841f16f42c9d"
      },
      "execution_count": 21,
      "outputs": [
        {
          "output_type": "stream",
          "name": "stdout",
          "text": [
            "Unfused: 0.285 sec\n",
            "Fused: 0.175 sec\n"
          ]
        }
      ]
    },
    {
      "cell_type": "markdown",
      "source": [
        "## 💡 Part 7: 실전 프로젝트 (1시간)\n",
        "\n",
        "### 7.1 종합 프로파일링 도구 구축"
      ],
      "metadata": {
        "id": "DERrfpctJL2T"
      }
    },
    {
      "cell_type": "code",
      "source": [
        "class ComprehensiveProfiler:\n",
        "    \"\"\"종합적인 모델 프로파일링 도구\"\"\"\n",
        "\n",
        "    def __init__(self, model, input_shape, device='cuda'):\n",
        "        self.model = model.to(device)\n",
        "        self.input_shape = input_shape\n",
        "        self.device = device\n",
        "        self.results = {}\n",
        "\n",
        "    def profile_all(self, batch_sizes=[1, 8, 16, 32]):\n",
        "        \"\"\"전체 프로파일링 수행\"\"\"\n",
        "\n",
        "        # 1. 모델 정보\n",
        "        self._profile_model_info()\n",
        "\n",
        "        # 2. FLOPs 계산\n",
        "        self._profile_flops()\n",
        "\n",
        "        # 3. 메모리 사용량\n",
        "        self._profile_memory()\n",
        "\n",
        "        # 4. 배치별 성능\n",
        "        self._profile_batch_performance(batch_sizes)\n",
        "\n",
        "        # 5. MFU 계산\n",
        "        self._calculate_mfu()\n",
        "\n",
        "        return self.results\n",
        "\n",
        "    def _profile_model_info(self):\n",
        "        \"\"\"모델 기본 정보\"\"\"\n",
        "        total_params = sum(p.numel() for p in self.model.parameters())\n",
        "        trainable_params = sum(p.numel() for p in self.model.parameters() if p.requires_grad)\n",
        "\n",
        "        self.results['model_info'] = {\n",
        "            'total_parameters': total_params,\n",
        "            'trainable_parameters': trainable_params,\n",
        "            'model_size_mb': total_params * 4 / 1024 / 1024  # Assuming FP32\n",
        "        }\n",
        "\n",
        "    def _profile_flops(self):\n",
        "        \"\"\"FLOPs 프로파일링\"\"\"\n",
        "        input_tensor = torch.randn(1, *self.input_shape).to(self.device)\n",
        "        flops = FlopCountAnalysis(self.model, input_tensor).total()\n",
        "\n",
        "        self.results['flops'] = {\n",
        "            'total_flops': flops,\n",
        "            'gflops': flops / 1e9\n",
        "        }\n",
        "\n",
        "    def _profile_memory(self):\n",
        "        \"\"\"메모리 사용량 프로파일링\"\"\"\n",
        "        if self.device == 'cuda':\n",
        "            torch.cuda.reset_peak_memory_stats()\n",
        "\n",
        "            input_tensor = torch.randn(1, *self.input_shape).to(self.device)\n",
        "            _ = self.model(input_tensor)\n",
        "\n",
        "            self.results['memory'] = {\n",
        "                'peak_memory_mb': torch.cuda.max_memory_allocated() / 1024 / 1024,\n",
        "                'current_memory_mb': torch.cuda.memory_allocated() / 1024 / 1024\n",
        "            }\n",
        "\n",
        "    def _profile_batch_performance(self, batch_sizes):\n",
        "        \"\"\"배치 크기별 성능 측정\"\"\"\n",
        "        performances = []\n",
        "\n",
        "        for bs in batch_sizes:\n",
        "            try:\n",
        "                input_tensor = torch.randn(bs, *self.input_shape).to(self.device)\n",
        "\n",
        "                # Warm-up\n",
        "                for _ in range(5):\n",
        "                    _ = self.model(input_tensor)\n",
        "\n",
        "                # Measure\n",
        "                if self.device == 'cuda':\n",
        "                    torch.cuda.synchronize()\n",
        "\n",
        "                start = time.time()\n",
        "                iterations = 50\n",
        "\n",
        "                for _ in range(iterations):\n",
        "                    with torch.no_grad():\n",
        "                        _ = self.model(input_tensor)\n",
        "\n",
        "                if self.device == 'cuda':\n",
        "                    torch.cuda.synchronize()\n",
        "\n",
        "                elapsed = time.time() - start\n",
        "                throughput = (bs * iterations) / elapsed\n",
        "\n",
        "                performances.append({\n",
        "                    'batch_size': bs,\n",
        "                    'throughput': throughput,\n",
        "                    'latency_ms': (elapsed / iterations) * 1000\n",
        "                })\n",
        "\n",
        "            except RuntimeError as e:\n",
        "                performances.append({\n",
        "                    'batch_size': bs,\n",
        "                    'error': str(e)\n",
        "                })\n",
        "\n",
        "        self.results['batch_performance'] = performances\n",
        "\n",
        "    def _calculate_mfu(self):\n",
        "        \"\"\"MFU 계산\"\"\"\n",
        "        if 'flops' in self.results and 'batch_performance' in self.results:\n",
        "            # GPU 이론적 성능 (TFLOPS)\n",
        "            gpu_tflops = {\n",
        "                'V100': 125,\n",
        "                'A100': 312,\n",
        "                'T4': 65\n",
        "            }\n",
        "\n",
        "            if self.device == 'cuda':\n",
        "                gpu_name = torch.cuda.get_device_name(0)\n",
        "                peak_tflops = 100  # Default\n",
        "\n",
        "                for gpu, tflops in gpu_tflops.items():\n",
        "                    if gpu in gpu_name:\n",
        "                        peak_tflops = tflops\n",
        "                        break\n",
        "\n",
        "                mfu_results = []\n",
        "                for perf in self.results['batch_performance']:\n",
        "                    if 'throughput' in perf:\n",
        "                        actual_tflops = (self.results['flops']['total_flops'] * perf['throughput']) / 1e12\n",
        "                        mfu = (actual_tflops / peak_tflops) * 100\n",
        "\n",
        "                        mfu_results.append({\n",
        "                            'batch_size': perf['batch_size'],\n",
        "                            'actual_tflops': actual_tflops,\n",
        "                            'mfu_percentage': mfu\n",
        "                        })\n",
        "\n",
        "                self.results['mfu'] = {\n",
        "                    'peak_tflops': peak_tflops,\n",
        "                    'measurements': mfu_results\n",
        "                }\n",
        "\n",
        "    def generate_report(self):\n",
        "        \"\"\"프로파일링 결과 리포트 생성\"\"\"\n",
        "        print(\"=\"*60)\n",
        "        print(\"MODEL PROFILING REPORT\")\n",
        "        print(\"=\"*60)\n",
        "\n",
        "        # Model Info\n",
        "        if 'model_info' in self.results:\n",
        "            print(\"\\n📊 Model Information:\")\n",
        "            info = self.results['model_info']\n",
        "            print(f\"  Total Parameters: {info['total_parameters']:,}\")\n",
        "            print(f\"  Model Size: {info['model_size_mb']:.2f} MB\")\n",
        "\n",
        "        # FLOPs\n",
        "        if 'flops' in self.results:\n",
        "            print(\"\\n💻 Computational Complexity:\")\n",
        "            print(f\"  Total FLOPs: {self.results['flops']['gflops']:.2f} GFLOPs\")\n",
        "\n",
        "        # Memory\n",
        "        if 'memory' in self.results:\n",
        "            print(\"\\n🧠 Memory Usage:\")\n",
        "            mem = self.results['memory']\n",
        "            print(f\"  Peak Memory: {mem['peak_memory_mb']:.2f} MB\")\n",
        "\n",
        "        # Performance\n",
        "        if 'batch_performance' in self.results:\n",
        "            print(\"\\n⚡ Performance by Batch Size:\")\n",
        "            for perf in self.results['batch_performance']:\n",
        "                if 'throughput' in perf:\n",
        "                    print(f\"  Batch {perf['batch_size']:3d}: {perf['throughput']:7.2f} samples/sec, \"\n",
        "                          f\"Latency: {perf['latency_ms']:.2f} ms\")\n",
        "                else:\n",
        "                    print(f\"  Batch {perf['batch_size']:3d}: {perf.get('error', 'Failed')}\")\n",
        "\n",
        "        # MFU\n",
        "        if 'mfu' in self.results:\n",
        "            print(f\"\\n🎯 Model FLOPs Utilization (Peak: {self.results['mfu']['peak_tflops']} TFLOPS):\")\n",
        "            for mfu_data in self.results['mfu']['measurements']:\n",
        "                print(f\"  Batch {mfu_data['batch_size']:3d}: {mfu_data['mfu_percentage']:.2f}% \"\n",
        "                      f\"({mfu_data['actual_tflops']:.2f} TFLOPS)\")\n",
        "\n",
        "        print(\"\\n\" + \"=\"*60)\n",
        "\n",
        "# 사용 예시\n",
        "model = SimpleCNN()\n",
        "profiler = ComprehensiveProfiler(model, input_shape=(3, 32, 32))\n",
        "results = profiler.profile_all(batch_sizes=[1, 4, 8, 16, 32])\n",
        "profiler.generate_report()"
      ],
      "metadata": {
        "colab": {
          "base_uri": "https://localhost:8080/"
        },
        "id": "ySG3t7flJGlW",
        "outputId": "909b9f51-517a-4867-a8aa-8469130a337a"
      },
      "execution_count": 22,
      "outputs": [
        {
          "output_type": "stream",
          "name": "stderr",
          "text": [
            "WARNING:fvcore.nn.jit_analysis:Unsupported operator aten::max_pool2d encountered 3 time(s)\n"
          ]
        },
        {
          "output_type": "stream",
          "name": "stdout",
          "text": [
            "============================================================\n",
            "MODEL PROFILING REPORT\n",
            "============================================================\n",
            "\n",
            "📊 Model Information:\n",
            "  Total Parameters: 2,473,610\n",
            "  Model Size: 9.44 MB\n",
            "\n",
            "💻 Computational Complexity:\n",
            "  Total FLOPs: 0.04 GFLOPs\n",
            "\n",
            "🧠 Memory Usage:\n",
            "  Peak Memory: 72.83 MB\n",
            "\n",
            "⚡ Performance by Batch Size:\n",
            "  Batch   1: 2471.13 samples/sec, Latency: 0.40 ms\n",
            "  Batch   4: 9883.37 samples/sec, Latency: 0.40 ms\n",
            "  Batch   8: 19821.62 samples/sec, Latency: 0.40 ms\n",
            "  Batch  16: 40086.53 samples/sec, Latency: 0.40 ms\n",
            "  Batch  32: 73090.60 samples/sec, Latency: 0.44 ms\n",
            "\n",
            "🎯 Model FLOPs Utilization (Peak: 312 TFLOPS):\n",
            "  Batch   1: 0.03% (0.10 TFLOPS)\n",
            "  Batch   4: 0.13% (0.41 TFLOPS)\n",
            "  Batch   8: 0.26% (0.82 TFLOPS)\n",
            "  Batch  16: 0.53% (1.67 TFLOPS)\n",
            "  Batch  32: 0.98% (3.04 TFLOPS)\n",
            "\n",
            "============================================================\n"
          ]
        }
      ]
    },
    {
      "cell_type": "markdown",
      "source": [
        "### 7.2 시각화 대시보드"
      ],
      "metadata": {
        "id": "B1AVyQA7JUO1"
      }
    },
    {
      "cell_type": "code",
      "source": [
        "import matplotlib.pyplot as plt\n",
        "import numpy as np\n",
        "\n",
        "def create_profiling_dashboard(profiler_results):\n",
        "    \"\"\"프로파일링 결과 시각화 대시보드\"\"\"\n",
        "\n",
        "    fig, axes = plt.subplots(2, 2, figsize=(15, 10))\n",
        "    fig.suptitle('Model Profiling Dashboard', fontsize=16)\n",
        "\n",
        "    # 1. Throughput vs Batch Size\n",
        "    if 'batch_performance' in profiler_results:\n",
        "        ax = axes[0, 0]\n",
        "        batch_sizes = []\n",
        "        throughputs = []\n",
        "\n",
        "        for perf in profiler_results['batch_performance']:\n",
        "            if 'throughput' in perf:\n",
        "                batch_sizes.append(perf['batch_size'])\n",
        "                throughputs.append(perf['throughput'])\n",
        "\n",
        "        ax.plot(batch_sizes, throughputs, 'o-', linewidth=2, markersize=8)\n",
        "        ax.set_xlabel('Batch Size')\n",
        "        ax.set_ylabel('Throughput (samples/sec)')\n",
        "        ax.set_title('Throughput vs Batch Size')\n",
        "        ax.grid(True, alpha=0.3)\n",
        "        ax.set_xscale('log', base=2)\n",
        "\n",
        "    # 2. Latency vs Batch Size\n",
        "    if 'batch_performance' in profiler_results:\n",
        "        ax = axes[0, 1]\n",
        "        batch_sizes = []\n",
        "        latencies = []\n",
        "\n",
        "        for perf in profiler_results['batch_performance']:\n",
        "            if 'latency_ms' in perf:\n",
        "                batch_sizes.append(perf['batch_size'])\n",
        "                latencies.append(perf['latency_ms'])\n",
        "\n",
        "        ax.bar(range(len(batch_sizes)), latencies, tick_label=batch_sizes)\n",
        "        ax.set_xlabel('Batch Size')\n",
        "        ax.set_ylabel('Latency (ms)')\n",
        "        ax.set_title('Inference Latency')\n",
        "        ax.grid(True, alpha=0.3, axis='y')\n",
        "\n",
        "    # 3. MFU vs Batch Size\n",
        "    if 'mfu' in profiler_results:\n",
        "        ax = axes[1, 0]\n",
        "        batch_sizes = []\n",
        "        mfu_values = []\n",
        "\n",
        "        for mfu_data in profiler_results['mfu']['measurements']:\n",
        "            batch_sizes.append(mfu_data['batch_size'])\n",
        "            mfu_values.append(mfu_data['mfu_percentage'])\n",
        "\n",
        "        ax.plot(batch_sizes, mfu_values, 's-', linewidth=2, markersize=8, color='red')\n",
        "        ax.set_xlabel('Batch Size')\n",
        "        ax.set_ylabel('MFU (%)')\n",
        "        ax.set_title('Model FLOPs Utilization')\n",
        "        ax.grid(True, alpha=0.3)\n",
        "        ax.set_xscale('log', base=2)\n",
        "        ax.axhline(y=50, color='g', linestyle='--', alpha=0.5, label='50% MFU')\n",
        "        ax.legend()\n",
        "\n",
        "    # 4. Model Stats\n",
        "    ax = axes[1, 1]\n",
        "    ax.axis('off')\n",
        "\n",
        "    stats_text = \"Model Statistics\\n\" + \"=\"*30 + \"\\n\"\n",
        "\n",
        "    if 'model_info' in profiler_results:\n",
        "        info = profiler_results['model_info']\n",
        "        stats_text += f\"Parameters: {info['total_parameters']:,}\\n\"\n",
        "        stats_text += f\"Size: {info['model_size_mb']:.2f} MB\\n\"\n",
        "\n",
        "    if 'flops' in profiler_results:\n",
        "        stats_text += f\"FLOPs: {profiler_results['flops']['gflops']:.2f} GFLOPs\\n\"\n",
        "\n",
        "    if 'memory' in profiler_results:\n",
        "        mem = profiler_results['memory']\n",
        "        stats_text += f\"Peak Memory: {mem['peak_memory_mb']:.2f} MB\\n\"\n",
        "\n",
        "    if 'mfu' in profiler_results:\n",
        "        max_mfu = max(m['mfu_percentage'] for m in profiler_results['mfu']['measurements'])\n",
        "        stats_text += f\"Max MFU: {max_mfu:.2f}%\\n\"\n",
        "\n",
        "    ax.text(0.1, 0.5, stats_text, fontsize=12, family='monospace',\n",
        "            verticalalignment='center')\n",
        "\n",
        "    plt.tight_layout()\n",
        "    plt.show()\n",
        "\n",
        "# 대시보드 생성\n",
        "create_profiling_dashboard(results)"
      ],
      "metadata": {
        "colab": {
          "base_uri": "https://localhost:8080/",
          "height": 824
        },
        "id": "rtK23k7CJRIg",
        "outputId": "b6209f85-3d69-43c4-ff24-d6c8b3430a0e"
      },
      "execution_count": 23,
      "outputs": [
        {
          "output_type": "display_data",
          "data": {
            "text/plain": [
              "<Figure size 1500x1000 with 4 Axes>"
            ],
            "image/png": "[encoded data removed]"
          },
          "metadata": {}
        }
      ]
    }
  ]
}